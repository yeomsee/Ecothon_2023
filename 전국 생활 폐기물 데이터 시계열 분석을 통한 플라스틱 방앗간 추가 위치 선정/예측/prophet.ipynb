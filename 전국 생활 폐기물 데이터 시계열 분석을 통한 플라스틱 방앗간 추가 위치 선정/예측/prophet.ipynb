{
 "cells": [
  {
   "cell_type": "markdown",
   "id": "d2bf5b53",
   "metadata": {},
   "source": [
    "# Prophet Model \n",
    "Prophet는 긴 시계열에 대해서 잘 학습하고, 아웃라이어나 노이즈에도 강건하다고 알려져 있다. 가볍고, 학습 속도가 빠르면서도, 분석이 용이하다고 판단으로 도입."
   ]
  },
  {
   "cell_type": "markdown",
   "id": "e51b1a4f",
   "metadata": {},
   "source": [
    "### Prophet\n",
    "Prophet은 2017년에 Facebook(현 Meta)에서 Time-series를 다루기 위해서 만든 Library이다. 통계적인 지식 없이 Time-series 데이터를 기반으로 자동으로 Forecast를 수행해주며, 아웃라이어, 데이터 부재 등에도 비교적 강건하게 모델링을 수행한다.\n",
    "*참고 : 공식 홈페이지 Prophet\n",
    "\n",
    "Facebook에서는 전문적인 시계열 분석가나 통계 전문가의 도움 없이 ‘도메인’ 전문가가 스스로 시계열 데이터를 분석하고 적용할 수 있도록 도구를 확보했다. 기존의 통계 기반의 시계열 분석 모델인 ARIMA나 ETS, TBATS 등의 단점과 복잡성을 단순화한 모델을 개발하고 이를 Prophet으로 패키징하여 배포한 것."
   ]
  },
  {
   "cell_type": "code",
   "execution_count": 379,
   "id": "827ada92",
   "metadata": {
    "ExecuteTime": {
     "end_time": "2023-06-03T08:07:09.189230Z",
     "start_time": "2023-06-03T08:07:09.177514Z"
    }
   },
   "outputs": [],
   "source": [
    "import warnings\n",
    "warnings.filterwarnings('ignore')\n",
    "import pandas as pd\n",
    "import numpy as np\n",
    "import matplotlib.pyplot as plt"
   ]
  },
  {
   "cell_type": "code",
   "execution_count": 380,
   "id": "c1345c8e",
   "metadata": {
    "ExecuteTime": {
     "end_time": "2023-06-03T08:07:09.498294Z",
     "start_time": "2023-06-03T08:07:09.444271Z"
    }
   },
   "outputs": [
    {
     "data": {
      "text/html": [
       "<div>\n",
       "<style scoped>\n",
       "    .dataframe tbody tr th:only-of-type {\n",
       "        vertical-align: middle;\n",
       "    }\n",
       "\n",
       "    .dataframe tbody tr th {\n",
       "        vertical-align: top;\n",
       "    }\n",
       "\n",
       "    .dataframe thead th {\n",
       "        text-align: right;\n",
       "    }\n",
       "</style>\n",
       "<table border=\"1\" class=\"dataframe\">\n",
       "  <thead>\n",
       "    <tr style=\"text-align: right;\">\n",
       "      <th></th>\n",
       "      <th>1996 년</th>\n",
       "      <th>1997 년</th>\n",
       "      <th>1998 년</th>\n",
       "      <th>1999 년</th>\n",
       "      <th>2000 년</th>\n",
       "      <th>2001 년</th>\n",
       "      <th>2002 년</th>\n",
       "      <th>2003 년</th>\n",
       "      <th>2004 년</th>\n",
       "      <th>2005 년</th>\n",
       "      <th>...</th>\n",
       "      <th>2012 년</th>\n",
       "      <th>2013 년</th>\n",
       "      <th>2014 년</th>\n",
       "      <th>2015 년</th>\n",
       "      <th>2016 년</th>\n",
       "      <th>2017 년</th>\n",
       "      <th>2018 년</th>\n",
       "      <th>2019 년</th>\n",
       "      <th>2020년</th>\n",
       "      <th>2021년</th>\n",
       "    </tr>\n",
       "    <tr>\n",
       "      <th>구분1</th>\n",
       "      <th></th>\n",
       "      <th></th>\n",
       "      <th></th>\n",
       "      <th></th>\n",
       "      <th></th>\n",
       "      <th></th>\n",
       "      <th></th>\n",
       "      <th></th>\n",
       "      <th></th>\n",
       "      <th></th>\n",
       "      <th></th>\n",
       "      <th></th>\n",
       "      <th></th>\n",
       "      <th></th>\n",
       "      <th></th>\n",
       "      <th></th>\n",
       "      <th></th>\n",
       "      <th></th>\n",
       "      <th></th>\n",
       "      <th></th>\n",
       "      <th></th>\n",
       "    </tr>\n",
       "  </thead>\n",
       "  <tbody>\n",
       "    <tr>\n",
       "      <th>강원</th>\n",
       "      <td>59.0</td>\n",
       "      <td>37.9</td>\n",
       "      <td>40.9</td>\n",
       "      <td>63.0</td>\n",
       "      <td>66.0</td>\n",
       "      <td>91.5</td>\n",
       "      <td>122.1</td>\n",
       "      <td>102.0</td>\n",
       "      <td>123.1</td>\n",
       "      <td>126.0</td>\n",
       "      <td>...</td>\n",
       "      <td>169.7</td>\n",
       "      <td>153.5</td>\n",
       "      <td>204.1</td>\n",
       "      <td>161.7</td>\n",
       "      <td>137.3</td>\n",
       "      <td>162.7</td>\n",
       "      <td>196.3</td>\n",
       "      <td>264.7</td>\n",
       "      <td>104507.8</td>\n",
       "      <td>114571.8</td>\n",
       "    </tr>\n",
       "    <tr>\n",
       "      <th>경기</th>\n",
       "      <td>579.0</td>\n",
       "      <td>638.3</td>\n",
       "      <td>636.8</td>\n",
       "      <td>594.0</td>\n",
       "      <td>565.6</td>\n",
       "      <td>573.9</td>\n",
       "      <td>710.3</td>\n",
       "      <td>757.8</td>\n",
       "      <td>745.7</td>\n",
       "      <td>736.7</td>\n",
       "      <td>...</td>\n",
       "      <td>816.8</td>\n",
       "      <td>803.8</td>\n",
       "      <td>842.9</td>\n",
       "      <td>847.3</td>\n",
       "      <td>1017.4</td>\n",
       "      <td>1129.9</td>\n",
       "      <td>1301.5</td>\n",
       "      <td>1572.0</td>\n",
       "      <td>674379.0</td>\n",
       "      <td>789086.5</td>\n",
       "    </tr>\n",
       "    <tr>\n",
       "      <th>경남</th>\n",
       "      <td>173.0</td>\n",
       "      <td>116.5</td>\n",
       "      <td>154.1</td>\n",
       "      <td>168.7</td>\n",
       "      <td>179.1</td>\n",
       "      <td>229.7</td>\n",
       "      <td>261.2</td>\n",
       "      <td>263.0</td>\n",
       "      <td>279.5</td>\n",
       "      <td>301.8</td>\n",
       "      <td>...</td>\n",
       "      <td>374.4</td>\n",
       "      <td>310.2</td>\n",
       "      <td>360.9</td>\n",
       "      <td>307.6</td>\n",
       "      <td>336.4</td>\n",
       "      <td>331.2</td>\n",
       "      <td>335.0</td>\n",
       "      <td>409.1</td>\n",
       "      <td>160810.0</td>\n",
       "      <td>181060.0</td>\n",
       "    </tr>\n",
       "    <tr>\n",
       "      <th>경북</th>\n",
       "      <td>59.0</td>\n",
       "      <td>72.7</td>\n",
       "      <td>84.4</td>\n",
       "      <td>112.5</td>\n",
       "      <td>114.3</td>\n",
       "      <td>103.9</td>\n",
       "      <td>111.9</td>\n",
       "      <td>149.8</td>\n",
       "      <td>194.6</td>\n",
       "      <td>208.7</td>\n",
       "      <td>...</td>\n",
       "      <td>181.1</td>\n",
       "      <td>206.9</td>\n",
       "      <td>185.6</td>\n",
       "      <td>216.1</td>\n",
       "      <td>280.5</td>\n",
       "      <td>271.0</td>\n",
       "      <td>318.6</td>\n",
       "      <td>320.6</td>\n",
       "      <td>146123.6</td>\n",
       "      <td>147046.8</td>\n",
       "    </tr>\n",
       "    <tr>\n",
       "      <th>광주</th>\n",
       "      <td>42.0</td>\n",
       "      <td>49.5</td>\n",
       "      <td>52.4</td>\n",
       "      <td>58.2</td>\n",
       "      <td>63.6</td>\n",
       "      <td>52.4</td>\n",
       "      <td>129.8</td>\n",
       "      <td>115.8</td>\n",
       "      <td>134.3</td>\n",
       "      <td>134.0</td>\n",
       "      <td>...</td>\n",
       "      <td>124.1</td>\n",
       "      <td>133.4</td>\n",
       "      <td>128.9</td>\n",
       "      <td>141.6</td>\n",
       "      <td>138.5</td>\n",
       "      <td>119.8</td>\n",
       "      <td>135.3</td>\n",
       "      <td>129.6</td>\n",
       "      <td>51582.7</td>\n",
       "      <td>73882.0</td>\n",
       "    </tr>\n",
       "  </tbody>\n",
       "</table>\n",
       "<p>5 rows × 26 columns</p>\n",
       "</div>"
      ],
      "text/plain": [
       "     1996 년  1997 년  1998 년  1999 년  2000 년  2001 년  2002 년  2003 년  2004 년  \\\n",
       "구분1                                                                           \n",
       "강원     59.0    37.9    40.9    63.0    66.0    91.5   122.1   102.0   123.1   \n",
       "경기    579.0   638.3   636.8   594.0   565.6   573.9   710.3   757.8   745.7   \n",
       "경남    173.0   116.5   154.1   168.7   179.1   229.7   261.2   263.0   279.5   \n",
       "경북     59.0    72.7    84.4   112.5   114.3   103.9   111.9   149.8   194.6   \n",
       "광주     42.0    49.5    52.4    58.2    63.6    52.4   129.8   115.8   134.3   \n",
       "\n",
       "     2005 년  ...  2012 년  2013 년  2014 년  2015 년  2016 년  2017 년  2018 년  \\\n",
       "구분1          ...                                                           \n",
       "강원    126.0  ...   169.7   153.5   204.1   161.7   137.3   162.7   196.3   \n",
       "경기    736.7  ...   816.8   803.8   842.9   847.3  1017.4  1129.9  1301.5   \n",
       "경남    301.8  ...   374.4   310.2   360.9   307.6   336.4   331.2   335.0   \n",
       "경북    208.7  ...   181.1   206.9   185.6   216.1   280.5   271.0   318.6   \n",
       "광주    134.0  ...   124.1   133.4   128.9   141.6   138.5   119.8   135.3   \n",
       "\n",
       "     2019 년     2020년     2021년  \n",
       "구분1                              \n",
       "강원    264.7  104507.8  114571.8  \n",
       "경기   1572.0  674379.0  789086.5  \n",
       "경남    409.1  160810.0  181060.0  \n",
       "경북    320.6  146123.6  147046.8  \n",
       "광주    129.6   51582.7   73882.0  \n",
       "\n",
       "[5 rows x 26 columns]"
      ]
     },
     "execution_count": 380,
     "metadata": {},
     "output_type": "execute_result"
    }
   ],
   "source": [
    "df = pd.read_csv('life_all.csv')\n",
    "df = df.set_index('구분1')\n",
    "df.head()"
   ]
  },
  {
   "cell_type": "markdown",
   "id": "30155cc7",
   "metadata": {},
   "source": [
    "## 전처리"
   ]
  },
  {
   "cell_type": "code",
   "execution_count": 381,
   "id": "fe3edefd",
   "metadata": {
    "ExecuteTime": {
     "end_time": "2023-06-03T08:07:10.581110Z",
     "start_time": "2023-06-03T08:07:10.565329Z"
    }
   },
   "outputs": [],
   "source": [
    "df['2020 년'] = df['2020년'].apply(lambda x: x / 365)\n",
    "df['2021 년'] = df['2021년'].apply(lambda x: x / 365)\n",
    "df.drop(['2020년','2021년'], axis = 1, inplace = True)\n",
    "\n"
   ]
  },
  {
   "cell_type": "code",
   "execution_count": 382,
   "id": "4a1ed877",
   "metadata": {
    "ExecuteTime": {
     "end_time": "2023-06-03T08:07:10.860902Z",
     "start_time": "2023-06-03T08:07:10.834695Z"
    },
    "scrolled": false
   },
   "outputs": [
    {
     "data": {
      "text/html": [
       "<div>\n",
       "<style scoped>\n",
       "    .dataframe tbody tr th:only-of-type {\n",
       "        vertical-align: middle;\n",
       "    }\n",
       "\n",
       "    .dataframe tbody tr th {\n",
       "        vertical-align: top;\n",
       "    }\n",
       "\n",
       "    .dataframe thead th {\n",
       "        text-align: right;\n",
       "    }\n",
       "</style>\n",
       "<table border=\"1\" class=\"dataframe\">\n",
       "  <thead>\n",
       "    <tr style=\"text-align: right;\">\n",
       "      <th>구분1</th>\n",
       "      <th>강원</th>\n",
       "      <th>경기</th>\n",
       "      <th>경남</th>\n",
       "      <th>경북</th>\n",
       "      <th>광주</th>\n",
       "      <th>대구</th>\n",
       "      <th>대전</th>\n",
       "      <th>부산</th>\n",
       "      <th>서울</th>\n",
       "      <th>울산</th>\n",
       "      <th>인천</th>\n",
       "      <th>전남</th>\n",
       "      <th>전북</th>\n",
       "      <th>제주</th>\n",
       "      <th>충남</th>\n",
       "      <th>충북</th>\n",
       "    </tr>\n",
       "  </thead>\n",
       "  <tbody>\n",
       "    <tr>\n",
       "      <th>1996 년</th>\n",
       "      <td>59.0</td>\n",
       "      <td>579.0</td>\n",
       "      <td>173.0</td>\n",
       "      <td>59.0</td>\n",
       "      <td>42.0</td>\n",
       "      <td>126.0</td>\n",
       "      <td>152.4</td>\n",
       "      <td>260.0</td>\n",
       "      <td>618.0</td>\n",
       "      <td>NaN</td>\n",
       "      <td>100.0</td>\n",
       "      <td>79.0</td>\n",
       "      <td>63.0</td>\n",
       "      <td>19.9</td>\n",
       "      <td>64.0</td>\n",
       "      <td>48.9</td>\n",
       "    </tr>\n",
       "    <tr>\n",
       "      <th>1997 년</th>\n",
       "      <td>37.9</td>\n",
       "      <td>638.3</td>\n",
       "      <td>116.5</td>\n",
       "      <td>72.7</td>\n",
       "      <td>49.5</td>\n",
       "      <td>131.3</td>\n",
       "      <td>156.5</td>\n",
       "      <td>249.0</td>\n",
       "      <td>599.4</td>\n",
       "      <td>61.8</td>\n",
       "      <td>100.7</td>\n",
       "      <td>76.4</td>\n",
       "      <td>64.7</td>\n",
       "      <td>29.7</td>\n",
       "      <td>79.7</td>\n",
       "      <td>53.8</td>\n",
       "    </tr>\n",
       "    <tr>\n",
       "      <th>1998 년</th>\n",
       "      <td>40.9</td>\n",
       "      <td>636.8</td>\n",
       "      <td>154.1</td>\n",
       "      <td>84.4</td>\n",
       "      <td>52.4</td>\n",
       "      <td>197.3</td>\n",
       "      <td>126.7</td>\n",
       "      <td>242.5</td>\n",
       "      <td>506.6</td>\n",
       "      <td>52.2</td>\n",
       "      <td>152.9</td>\n",
       "      <td>85.8</td>\n",
       "      <td>64.5</td>\n",
       "      <td>14.9</td>\n",
       "      <td>77.0</td>\n",
       "      <td>73.0</td>\n",
       "    </tr>\n",
       "    <tr>\n",
       "      <th>1999 년</th>\n",
       "      <td>63.0</td>\n",
       "      <td>594.0</td>\n",
       "      <td>168.7</td>\n",
       "      <td>112.5</td>\n",
       "      <td>58.2</td>\n",
       "      <td>244.5</td>\n",
       "      <td>136.3</td>\n",
       "      <td>290.3</td>\n",
       "      <td>589.2</td>\n",
       "      <td>66.9</td>\n",
       "      <td>145.3</td>\n",
       "      <td>75.0</td>\n",
       "      <td>96.1</td>\n",
       "      <td>22.0</td>\n",
       "      <td>70.9</td>\n",
       "      <td>53.8</td>\n",
       "    </tr>\n",
       "    <tr>\n",
       "      <th>2000 년</th>\n",
       "      <td>66.0</td>\n",
       "      <td>565.6</td>\n",
       "      <td>179.1</td>\n",
       "      <td>114.3</td>\n",
       "      <td>63.6</td>\n",
       "      <td>261.4</td>\n",
       "      <td>114.9</td>\n",
       "      <td>260.9</td>\n",
       "      <td>652.2</td>\n",
       "      <td>74.3</td>\n",
       "      <td>201.9</td>\n",
       "      <td>73.3</td>\n",
       "      <td>92.5</td>\n",
       "      <td>16.2</td>\n",
       "      <td>77.7</td>\n",
       "      <td>55.1</td>\n",
       "    </tr>\n",
       "  </tbody>\n",
       "</table>\n",
       "</div>"
      ],
      "text/plain": [
       "구분1       강원     경기     경남     경북    광주     대구     대전     부산     서울    울산  \\\n",
       "1996 년  59.0  579.0  173.0   59.0  42.0  126.0  152.4  260.0  618.0   NaN   \n",
       "1997 년  37.9  638.3  116.5   72.7  49.5  131.3  156.5  249.0  599.4  61.8   \n",
       "1998 년  40.9  636.8  154.1   84.4  52.4  197.3  126.7  242.5  506.6  52.2   \n",
       "1999 년  63.0  594.0  168.7  112.5  58.2  244.5  136.3  290.3  589.2  66.9   \n",
       "2000 년  66.0  565.6  179.1  114.3  63.6  261.4  114.9  260.9  652.2  74.3   \n",
       "\n",
       "구분1        인천    전남    전북    제주    충남    충북  \n",
       "1996 년  100.0  79.0  63.0  19.9  64.0  48.9  \n",
       "1997 년  100.7  76.4  64.7  29.7  79.7  53.8  \n",
       "1998 년  152.9  85.8  64.5  14.9  77.0  73.0  \n",
       "1999 년  145.3  75.0  96.1  22.0  70.9  53.8  \n",
       "2000 년  201.9  73.3  92.5  16.2  77.7  55.1  "
      ]
     },
     "execution_count": 382,
     "metadata": {},
     "output_type": "execute_result"
    }
   ],
   "source": [
    "df_t = df.transpose()\n",
    "df_t.drop(['세종'], axis = 1, inplace = True ) #데이터 부족 \n",
    "df_t['울산'] = df_t['울산'].replace(0, np.nan) #측정되지 않는 값\n",
    "df_t.head()"
   ]
  },
  {
   "cell_type": "code",
   "execution_count": 383,
   "id": "5e8b9aa0",
   "metadata": {
    "ExecuteTime": {
     "end_time": "2023-06-03T08:07:11.179731Z",
     "start_time": "2023-06-03T08:07:11.169254Z"
    }
   },
   "outputs": [],
   "source": [
    "df_t = df.transpose()\n",
    "\n",
    "\n",
    "df_t.drop(['세종'], axis = 1, inplace = True ) #데이터 부족 \n",
    "df_t['울산'] = df_t['울산'].replace(0, np.nan) #측정되지 않는 값\n",
    "\n"
   ]
  },
  {
   "cell_type": "code",
   "execution_count": 384,
   "id": "2ea16276",
   "metadata": {
    "ExecuteTime": {
     "end_time": "2023-06-03T08:07:11.920681Z",
     "start_time": "2023-06-03T08:07:11.898373Z"
    }
   },
   "outputs": [
    {
     "data": {
      "text/html": [
       "<div>\n",
       "<style scoped>\n",
       "    .dataframe tbody tr th:only-of-type {\n",
       "        vertical-align: middle;\n",
       "    }\n",
       "\n",
       "    .dataframe tbody tr th {\n",
       "        vertical-align: top;\n",
       "    }\n",
       "\n",
       "    .dataframe thead th {\n",
       "        text-align: right;\n",
       "    }\n",
       "</style>\n",
       "<table border=\"1\" class=\"dataframe\">\n",
       "  <thead>\n",
       "    <tr style=\"text-align: right;\">\n",
       "      <th>구분1</th>\n",
       "      <th>강원</th>\n",
       "      <th>경기</th>\n",
       "      <th>경남</th>\n",
       "      <th>경북</th>\n",
       "      <th>광주</th>\n",
       "      <th>대구</th>\n",
       "      <th>대전</th>\n",
       "      <th>부산</th>\n",
       "      <th>서울</th>\n",
       "      <th>울산</th>\n",
       "      <th>인천</th>\n",
       "      <th>전남</th>\n",
       "      <th>전북</th>\n",
       "      <th>제주</th>\n",
       "      <th>충남</th>\n",
       "      <th>충북</th>\n",
       "    </tr>\n",
       "  </thead>\n",
       "  <tbody>\n",
       "    <tr>\n",
       "      <th>2017</th>\n",
       "      <td>162.700000</td>\n",
       "      <td>1129.900000</td>\n",
       "      <td>331.200000</td>\n",
       "      <td>271.000000</td>\n",
       "      <td>119.800000</td>\n",
       "      <td>285.700000</td>\n",
       "      <td>144.400000</td>\n",
       "      <td>389.500000</td>\n",
       "      <td>797.200000</td>\n",
       "      <td>96.400000</td>\n",
       "      <td>139.300000</td>\n",
       "      <td>189.900000</td>\n",
       "      <td>213.700000</td>\n",
       "      <td>62.700000</td>\n",
       "      <td>230.200000</td>\n",
       "      <td>173.100000</td>\n",
       "    </tr>\n",
       "    <tr>\n",
       "      <th>2018</th>\n",
       "      <td>196.300000</td>\n",
       "      <td>1301.500000</td>\n",
       "      <td>335.000000</td>\n",
       "      <td>318.600000</td>\n",
       "      <td>135.300000</td>\n",
       "      <td>301.100000</td>\n",
       "      <td>164.500000</td>\n",
       "      <td>340.300000</td>\n",
       "      <td>741.700000</td>\n",
       "      <td>100.400000</td>\n",
       "      <td>177.500000</td>\n",
       "      <td>201.100000</td>\n",
       "      <td>252.800000</td>\n",
       "      <td>47.400000</td>\n",
       "      <td>286.400000</td>\n",
       "      <td>176.300000</td>\n",
       "    </tr>\n",
       "    <tr>\n",
       "      <th>2019</th>\n",
       "      <td>264.700000</td>\n",
       "      <td>1572.000000</td>\n",
       "      <td>409.100000</td>\n",
       "      <td>320.600000</td>\n",
       "      <td>129.600000</td>\n",
       "      <td>349.700000</td>\n",
       "      <td>202.300000</td>\n",
       "      <td>508.300000</td>\n",
       "      <td>1111.100000</td>\n",
       "      <td>128.800000</td>\n",
       "      <td>254.600000</td>\n",
       "      <td>231.800000</td>\n",
       "      <td>217.400000</td>\n",
       "      <td>81.600000</td>\n",
       "      <td>246.900000</td>\n",
       "      <td>243.600000</td>\n",
       "    </tr>\n",
       "    <tr>\n",
       "      <th>2020</th>\n",
       "      <td>286.322740</td>\n",
       "      <td>1847.613699</td>\n",
       "      <td>440.575342</td>\n",
       "      <td>400.338630</td>\n",
       "      <td>141.322466</td>\n",
       "      <td>363.823014</td>\n",
       "      <td>232.464384</td>\n",
       "      <td>791.478356</td>\n",
       "      <td>1626.985753</td>\n",
       "      <td>163.529041</td>\n",
       "      <td>317.129863</td>\n",
       "      <td>268.378082</td>\n",
       "      <td>226.140548</td>\n",
       "      <td>127.195616</td>\n",
       "      <td>303.961644</td>\n",
       "      <td>268.112603</td>\n",
       "    </tr>\n",
       "    <tr>\n",
       "      <th>2021</th>\n",
       "      <td>313.895342</td>\n",
       "      <td>2161.880822</td>\n",
       "      <td>496.054795</td>\n",
       "      <td>402.867945</td>\n",
       "      <td>202.416438</td>\n",
       "      <td>297.570959</td>\n",
       "      <td>205.962740</td>\n",
       "      <td>534.403288</td>\n",
       "      <td>1530.355616</td>\n",
       "      <td>124.574247</td>\n",
       "      <td>404.730959</td>\n",
       "      <td>235.406301</td>\n",
       "      <td>236.488493</td>\n",
       "      <td>132.233699</td>\n",
       "      <td>349.818356</td>\n",
       "      <td>280.825205</td>\n",
       "    </tr>\n",
       "  </tbody>\n",
       "</table>\n",
       "</div>"
      ],
      "text/plain": [
       "구분1            강원           경기          경남          경북          광주  \\\n",
       "2017   162.700000  1129.900000  331.200000  271.000000  119.800000   \n",
       "2018   196.300000  1301.500000  335.000000  318.600000  135.300000   \n",
       "2019   264.700000  1572.000000  409.100000  320.600000  129.600000   \n",
       "2020   286.322740  1847.613699  440.575342  400.338630  141.322466   \n",
       "2021   313.895342  2161.880822  496.054795  402.867945  202.416438   \n",
       "\n",
       "구분1            대구          대전          부산           서울          울산  \\\n",
       "2017   285.700000  144.400000  389.500000   797.200000   96.400000   \n",
       "2018   301.100000  164.500000  340.300000   741.700000  100.400000   \n",
       "2019   349.700000  202.300000  508.300000  1111.100000  128.800000   \n",
       "2020   363.823014  232.464384  791.478356  1626.985753  163.529041   \n",
       "2021   297.570959  205.962740  534.403288  1530.355616  124.574247   \n",
       "\n",
       "구분1            인천          전남          전북          제주          충남          충북  \n",
       "2017   139.300000  189.900000  213.700000   62.700000  230.200000  173.100000  \n",
       "2018   177.500000  201.100000  252.800000   47.400000  286.400000  176.300000  \n",
       "2019   254.600000  231.800000  217.400000   81.600000  246.900000  243.600000  \n",
       "2020   317.129863  268.378082  226.140548  127.195616  303.961644  268.112603  \n",
       "2021   404.730959  235.406301  236.488493  132.233699  349.818356  280.825205  "
      ]
     },
     "execution_count": 384,
     "metadata": {},
     "output_type": "execute_result"
    }
   ],
   "source": [
    "df_t.index = df_t.index.str.replace(\"년\", \"\")  # '년'제거 \n",
    "\n",
    "df_t.tail()"
   ]
  },
  {
   "cell_type": "code",
   "execution_count": 385,
   "id": "5331c5e9",
   "metadata": {
    "ExecuteTime": {
     "end_time": "2023-06-03T08:07:12.205963Z",
     "start_time": "2023-06-03T08:07:12.186779Z"
    },
    "scrolled": false
   },
   "outputs": [],
   "source": [
    "#to_datetime\n",
    "df_t.index = pd.to_datetime(df_t.index)\n",
    "df_t.index = df_t.index.strftime('%Y')\n"
   ]
  },
  {
   "cell_type": "code",
   "execution_count": 386,
   "id": "c4e80620",
   "metadata": {
    "ExecuteTime": {
     "end_time": "2023-06-03T08:07:12.592149Z",
     "start_time": "2023-06-03T08:07:12.564525Z"
    }
   },
   "outputs": [
    {
     "data": {
      "text/html": [
       "<div>\n",
       "<style scoped>\n",
       "    .dataframe tbody tr th:only-of-type {\n",
       "        vertical-align: middle;\n",
       "    }\n",
       "\n",
       "    .dataframe tbody tr th {\n",
       "        vertical-align: top;\n",
       "    }\n",
       "\n",
       "    .dataframe thead th {\n",
       "        text-align: right;\n",
       "    }\n",
       "</style>\n",
       "<table border=\"1\" class=\"dataframe\">\n",
       "  <thead>\n",
       "    <tr style=\"text-align: right;\">\n",
       "      <th>구분1</th>\n",
       "      <th>index</th>\n",
       "      <th>강원</th>\n",
       "      <th>경기</th>\n",
       "      <th>경남</th>\n",
       "      <th>경북</th>\n",
       "      <th>광주</th>\n",
       "      <th>대구</th>\n",
       "      <th>대전</th>\n",
       "      <th>부산</th>\n",
       "      <th>서울</th>\n",
       "      <th>울산</th>\n",
       "      <th>인천</th>\n",
       "      <th>전남</th>\n",
       "      <th>전북</th>\n",
       "      <th>제주</th>\n",
       "      <th>충남</th>\n",
       "      <th>충북</th>\n",
       "    </tr>\n",
       "  </thead>\n",
       "  <tbody>\n",
       "    <tr>\n",
       "      <th>0</th>\n",
       "      <td>1996</td>\n",
       "      <td>59.0</td>\n",
       "      <td>579.0</td>\n",
       "      <td>173.0</td>\n",
       "      <td>59.0</td>\n",
       "      <td>42.0</td>\n",
       "      <td>126.0</td>\n",
       "      <td>152.4</td>\n",
       "      <td>260.0</td>\n",
       "      <td>618.0</td>\n",
       "      <td>NaN</td>\n",
       "      <td>100.0</td>\n",
       "      <td>79.0</td>\n",
       "      <td>63.0</td>\n",
       "      <td>19.9</td>\n",
       "      <td>64.0</td>\n",
       "      <td>48.9</td>\n",
       "    </tr>\n",
       "    <tr>\n",
       "      <th>1</th>\n",
       "      <td>1997</td>\n",
       "      <td>37.9</td>\n",
       "      <td>638.3</td>\n",
       "      <td>116.5</td>\n",
       "      <td>72.7</td>\n",
       "      <td>49.5</td>\n",
       "      <td>131.3</td>\n",
       "      <td>156.5</td>\n",
       "      <td>249.0</td>\n",
       "      <td>599.4</td>\n",
       "      <td>61.8</td>\n",
       "      <td>100.7</td>\n",
       "      <td>76.4</td>\n",
       "      <td>64.7</td>\n",
       "      <td>29.7</td>\n",
       "      <td>79.7</td>\n",
       "      <td>53.8</td>\n",
       "    </tr>\n",
       "    <tr>\n",
       "      <th>2</th>\n",
       "      <td>1998</td>\n",
       "      <td>40.9</td>\n",
       "      <td>636.8</td>\n",
       "      <td>154.1</td>\n",
       "      <td>84.4</td>\n",
       "      <td>52.4</td>\n",
       "      <td>197.3</td>\n",
       "      <td>126.7</td>\n",
       "      <td>242.5</td>\n",
       "      <td>506.6</td>\n",
       "      <td>52.2</td>\n",
       "      <td>152.9</td>\n",
       "      <td>85.8</td>\n",
       "      <td>64.5</td>\n",
       "      <td>14.9</td>\n",
       "      <td>77.0</td>\n",
       "      <td>73.0</td>\n",
       "    </tr>\n",
       "    <tr>\n",
       "      <th>3</th>\n",
       "      <td>1999</td>\n",
       "      <td>63.0</td>\n",
       "      <td>594.0</td>\n",
       "      <td>168.7</td>\n",
       "      <td>112.5</td>\n",
       "      <td>58.2</td>\n",
       "      <td>244.5</td>\n",
       "      <td>136.3</td>\n",
       "      <td>290.3</td>\n",
       "      <td>589.2</td>\n",
       "      <td>66.9</td>\n",
       "      <td>145.3</td>\n",
       "      <td>75.0</td>\n",
       "      <td>96.1</td>\n",
       "      <td>22.0</td>\n",
       "      <td>70.9</td>\n",
       "      <td>53.8</td>\n",
       "    </tr>\n",
       "    <tr>\n",
       "      <th>4</th>\n",
       "      <td>2000</td>\n",
       "      <td>66.0</td>\n",
       "      <td>565.6</td>\n",
       "      <td>179.1</td>\n",
       "      <td>114.3</td>\n",
       "      <td>63.6</td>\n",
       "      <td>261.4</td>\n",
       "      <td>114.9</td>\n",
       "      <td>260.9</td>\n",
       "      <td>652.2</td>\n",
       "      <td>74.3</td>\n",
       "      <td>201.9</td>\n",
       "      <td>73.3</td>\n",
       "      <td>92.5</td>\n",
       "      <td>16.2</td>\n",
       "      <td>77.7</td>\n",
       "      <td>55.1</td>\n",
       "    </tr>\n",
       "  </tbody>\n",
       "</table>\n",
       "</div>"
      ],
      "text/plain": [
       "구분1 index    강원     경기     경남     경북    광주     대구     대전     부산     서울    울산  \\\n",
       "0    1996  59.0  579.0  173.0   59.0  42.0  126.0  152.4  260.0  618.0   NaN   \n",
       "1    1997  37.9  638.3  116.5   72.7  49.5  131.3  156.5  249.0  599.4  61.8   \n",
       "2    1998  40.9  636.8  154.1   84.4  52.4  197.3  126.7  242.5  506.6  52.2   \n",
       "3    1999  63.0  594.0  168.7  112.5  58.2  244.5  136.3  290.3  589.2  66.9   \n",
       "4    2000  66.0  565.6  179.1  114.3  63.6  261.4  114.9  260.9  652.2  74.3   \n",
       "\n",
       "구분1     인천    전남    전북    제주    충남    충북  \n",
       "0    100.0  79.0  63.0  19.9  64.0  48.9  \n",
       "1    100.7  76.4  64.7  29.7  79.7  53.8  \n",
       "2    152.9  85.8  64.5  14.9  77.0  73.0  \n",
       "3    145.3  75.0  96.1  22.0  70.9  53.8  \n",
       "4    201.9  73.3  92.5  16.2  77.7  55.1  "
      ]
     },
     "execution_count": 386,
     "metadata": {},
     "output_type": "execute_result"
    }
   ],
   "source": [
    "#시간 열로 변경 \n",
    "df_r = df_t.reset_index() \n",
    "df_r.head()"
   ]
  },
  {
   "cell_type": "markdown",
   "id": "46c911a7",
   "metadata": {},
   "source": [
    "## 예측"
   ]
  },
  {
   "cell_type": "code",
   "execution_count": 159,
   "id": "2d7d0ade",
   "metadata": {
    "ExecuteTime": {
     "end_time": "2023-06-02T16:06:59.393441Z",
     "start_time": "2023-06-02T16:06:59.388540Z"
    }
   },
   "outputs": [],
   "source": [
    "from prophet import Prophet\n",
    "from sklearn.metrics import mean_absolute_error, mean_absolute_percentage_error"
   ]
  },
  {
   "cell_type": "markdown",
   "id": "878e5319",
   "metadata": {},
   "source": [
    "### 서울"
   ]
  },
  {
   "cell_type": "markdown",
   "id": "312b06bd",
   "metadata": {
    "ExecuteTime": {
     "end_time": "2023-06-02T07:42:15.187457Z",
     "start_time": "2023-06-02T07:42:15.179147Z"
    }
   },
   "source": [
    "#### In-Sample Forecast\n",
    "\n",
    "우선 미래나 과거를 예측하기 전에 우리가 학습으로 사용한 데이터부터 잘 예측이 되는지 확인해 볼 필요가 있다.\n",
    "\n",
    "이를 In-Sample Forecast라고 하며, 이 결과를 검토함으로써 모델이 얼마나 좋은지 확인할 수 있다. 즉 train set을 얼마나 잘 학습했는가를 판단하는 것이다.\n",
    "\n"
   ]
  },
  {
   "cell_type": "code",
   "execution_count": 351,
   "id": "6dec65ee",
   "metadata": {
    "ExecuteTime": {
     "end_time": "2023-06-02T16:53:33.018239Z",
     "start_time": "2023-06-02T16:53:32.688424Z"
    }
   },
   "outputs": [
    {
     "name": "stderr",
     "output_type": "stream",
     "text": [
      "INFO:prophet:Disabling weekly seasonality. Run prophet with weekly_seasonality=True to override this.\n",
      "INFO:prophet:Disabling daily seasonality. Run prophet with daily_seasonality=True to override this.\n",
      "INFO:prophet:n_changepoints greater than number of observations. Using 19.\n"
     ]
    },
    {
     "name": "stdout",
     "output_type": "stream",
     "text": [
      "\n"
     ]
    },
    {
     "data": {
      "text/plain": [
       "<prophet.forecaster.Prophet at 0x7faee0d12f10>"
      ]
     },
     "execution_count": 351,
     "metadata": {},
     "output_type": "execute_result"
    },
    {
     "name": "stdout",
     "output_type": "stream",
     "text": [
      "Initial log joint probability = -52.8437\n",
      "Iteration  1. Log joint probability =    11.3407. Improved by 64.1844.\n",
      "Iteration  2. Log joint probability =    23.0879. Improved by 11.7472.\n",
      "Iteration  3. Log joint probability =    30.2303. Improved by 7.14231.\n",
      "Iteration  4. Log joint probability =    35.6005. Improved by 5.37021.\n",
      "Iteration  5. Log joint probability =    35.7399. Improved by 0.139386.\n",
      "Iteration  6. Log joint probability =    35.7574. Improved by 0.0175284.\n",
      "Iteration  7. Log joint probability =    35.7729. Improved by 0.015545.\n",
      "Iteration  8. Log joint probability =    35.8035. Improved by 0.0305954.\n",
      "Iteration  9. Log joint probability =    35.8098. Improved by 0.00627523.\n",
      "Iteration 10. Log joint probability =    35.8377. Improved by 0.027915.\n",
      "Iteration 11. Log joint probability =    35.8832. Improved by 0.0455127.\n",
      "Iteration 12. Log joint probability =    35.9296. Improved by 0.0463359.\n",
      "Iteration 13. Log joint probability =    36.0665. Improved by 0.136979.\n",
      "Iteration 14. Log joint probability =    36.0874. Improved by 0.0208202.\n",
      "Iteration 15. Log joint probability =    36.1072. Improved by 0.0198684.\n",
      "Iteration 16. Log joint probability =    36.1203. Improved by 0.0130386.\n",
      "Iteration 17. Log joint probability =     36.129. Improved by 0.00872464.\n",
      "Iteration 18. Log joint probability =     36.169. Improved by 0.0399988.\n",
      "Iteration 19. Log joint probability =    36.2066. Improved by 0.0376154.\n",
      "Iteration 20. Log joint probability =    36.2102. Improved by 0.00364361.\n",
      "Iteration 21. Log joint probability =    36.2244. Improved by 0.0141463.\n",
      "Iteration 22. Log joint probability =     36.227. Improved by 0.0026512.\n",
      "Iteration 23. Log joint probability =    36.2301. Improved by 0.00306336.\n",
      "Iteration 24. Log joint probability =    36.2352. Improved by 0.00508413.\n",
      "Iteration 25. Log joint probability =    36.2404. Improved by 0.00521463.\n",
      "Iteration 26. Log joint probability =    36.2427. Improved by 0.00226442.\n",
      "Iteration 27. Log joint probability =    36.2442. Improved by 0.00155004.\n",
      "Iteration 28. Log joint probability =    36.2463. Improved by 0.00210002.\n",
      "Iteration 29. Log joint probability =    36.2464. Improved by 7.15567e-05.\n",
      "Iteration 30. Log joint probability =    36.2475. Improved by 0.00111172.\n",
      "Iteration 31. Log joint probability =    36.2483. Improved by 0.00079456.\n",
      "Iteration 32. Log joint probability =    36.2486. Improved by 0.000266045.\n",
      "Iteration 33. Log joint probability =    36.2492. Improved by 0.000617818.\n",
      "Iteration 34. Log joint probability =    36.2496. Improved by 0.000453564.\n",
      "Iteration 35. Log joint probability =    36.2499. Improved by 0.000302164.\n",
      "Iteration 36. Log joint probability =      36.25. Improved by 2.61261e-05.\n",
      "Iteration 37. Log joint probability =      36.25. Improved by 6.38966e-05.\n",
      "Iteration 38. Log joint probability =    36.2501. Improved by 0.000105288.\n",
      "Iteration 39. Log joint probability =    36.2502. Improved by 6.97809e-05.\n",
      "Iteration 40. Log joint probability =    36.2503. Improved by 5.39965e-05.\n",
      "Iteration 41. Log joint probability =    36.2503. Improved by 3.13719e-05.\n",
      "Iteration 42. Log joint probability =    36.2504. Improved by 0.000116599.\n",
      "Iteration 43. Log joint probability =    36.2504. Improved by 4.03569e-05.\n",
      "Iteration 44. Log joint probability =    36.2505. Improved by 8.79455e-06.\n",
      "Iteration 45. Log joint probability =    36.2505. Improved by 1.20089e-05.\n",
      "Iteration 46. Log joint probability =    36.2505. Improved by 2.93531e-05.\n",
      "Iteration 47. Log joint probability =    36.2505. Improved by 5.85422e-06.\n",
      "Iteration 48. Log joint probability =    36.2505. Improved by 8.94896e-06.\n",
      "Iteration 49. Log joint probability =    36.2505. Improved by 8.20651e-07.\n",
      "Iteration 50. Log joint probability =    36.2505. Improved by 7.37398e-06.\n",
      "Iteration 51. Log joint probability =    36.2505. Improved by 1.74846e-06.\n",
      "Iteration 52. Log joint probability =    36.2505. Improved by 2.44926e-06.\n",
      "Iteration 53. Log joint probability =    36.2505. Improved by 2.49107e-06.\n",
      "Iteration 54. Log joint probability =    36.2505. Improved by 9.29086e-07.\n",
      "Iteration 55. Log joint probability =    36.2505. Improved by 6.89747e-07.\n",
      "Iteration 56. Log joint probability =    36.2505. Improved by 6.77143e-07.\n",
      "Iteration 57. Log joint probability =    36.2505. Improved by 2.9784e-07.\n",
      "Iteration 58. Log joint probability =    36.2505. Improved by 1.51946e-07.\n",
      "Iteration 59. Log joint probability =    36.2505. Improved by 5.02359e-07.\n",
      "Iteration 60. Log joint probability =    36.2505. Improved by 5.19163e-08.\n",
      "Iteration 61. Log joint probability =    36.2505. Improved by 6.81042e-08.\n",
      "Iteration 62. Log joint probability =    36.2505. Improved by 2.26309e-07.\n",
      "Iteration 63. Log joint probability =    36.2505. Improved by 2.56492e-08.\n",
      "Iteration 64. Log joint probability =    36.2505. Improved by 3.08897e-08.\n",
      "Iteration 65. Log joint probability =    36.2505. Improved by 4.30362e-08.\n",
      "Iteration 66. Log joint probability =    36.2505. Improved by 1.0275e-07.\n",
      "Iteration 67. Log joint probability =    36.2505. Improved by 1.04328e-08.\n",
      "Iteration 68. Log joint probability =    36.2505. Improved by 3.31501e-08.\n",
      "Iteration 69. Log joint probability =    36.2505. Improved by 2.51587e-08.\n",
      "Iteration 70. Log joint probability =    36.2505. Improved by 4.68694e-08.\n",
      "Iteration 71. Log joint probability =    36.2505. Improved by 3.38036e-09.\n"
     ]
    }
   ],
   "source": [
    "# 데이터 준비\n",
    "data = df_r[['index', '서울']]  # 날짜와 예측 대상 변수 선택\n",
    "data.columns = ['ds', 'y']  # 열 이름 변경\n",
    "\n",
    "#모델생성\n",
    "model = Prophet()\n",
    "\n",
    "# 모델 학습\n",
    "model.fit(data)"
   ]
  },
  {
   "cell_type": "code",
   "execution_count": 352,
   "id": "56a865a3",
   "metadata": {
    "ExecuteTime": {
     "end_time": "2023-06-02T16:53:36.089936Z",
     "start_time": "2023-06-02T16:53:36.080761Z"
    }
   },
   "outputs": [],
   "source": [
    "# train set 마지막 5년 날짜 생성\n",
    "start_year = 2017\n",
    "end_year = start_year + 5\n",
    "\n",
    "last_5years = list()\n",
    "for year in range(start_year, end_year):\n",
    "    last_5years.append([str(year)])\n",
    "last_5years = pd.DataFrame(last_5years, columns=['ds'])\n",
    "last_5years['ds'] = pd.to_datetime(last_5years['ds'])"
   ]
  },
  {
   "cell_type": "code",
   "execution_count": 353,
   "id": "1ab2693b",
   "metadata": {
    "ExecuteTime": {
     "end_time": "2023-06-02T16:53:37.959593Z",
     "start_time": "2023-06-02T16:53:37.493728Z"
    }
   },
   "outputs": [],
   "source": [
    "# 예측\n",
    "forecast = model.predict(last_5years)"
   ]
  },
  {
   "cell_type": "code",
   "execution_count": 354,
   "id": "b5664263",
   "metadata": {
    "ExecuteTime": {
     "end_time": "2023-06-02T16:53:38.924173Z",
     "start_time": "2023-06-02T16:53:38.787354Z"
    }
   },
   "outputs": [
    {
     "data": {
      "image/png": "[encoded data removed]",
      "text/plain": [
       "<Figure size 720x432 with 1 Axes>"
      ]
     },
     "metadata": {},
     "output_type": "display_data"
    }
   ],
   "source": [
    "model.plot(forecast)\n",
    "plt.show()"
   ]
  },
  {
   "cell_type": "markdown",
   "id": "504489c4",
   "metadata": {
    "heading_collapsed": true
   },
   "source": [
    "#### Out-Of-Sample Forecast\n",
    "이제 미래를 예측한다"
   ]
  },
  {
   "cell_type": "code",
   "execution_count": 355,
   "id": "e30d7ded",
   "metadata": {
    "ExecuteTime": {
     "end_time": "2023-06-02T16:53:44.180774Z",
     "start_time": "2023-06-02T16:53:44.171808Z"
    },
    "hidden": true
   },
   "outputs": [],
   "source": [
    "start_year = 2022\n",
    "end_year = start_year + 5\n",
    "\n",
    "# train set 이후 5년  생성\n",
    "last_5years = list()\n",
    "for year in range(start_year, end_year):\n",
    "    last_5years.append([str(year)])\n",
    "last_5years = pd.DataFrame(last_5years, columns=['ds'])\n",
    "last_5years['ds'] = pd.to_datetime(last_5years['ds'])"
   ]
  },
  {
   "cell_type": "code",
   "execution_count": 356,
   "id": "8dde0225",
   "metadata": {
    "ExecuteTime": {
     "end_time": "2023-06-02T16:53:45.110737Z",
     "start_time": "2023-06-02T16:53:44.522934Z"
    },
    "hidden": true
   },
   "outputs": [
    {
     "data": {
      "image/png": "[encoded data removed]",
      "text/plain": [
       "<Figure size 720x432 with 1 Axes>"
      ]
     },
     "metadata": {},
     "output_type": "display_data"
    }
   ],
   "source": [
    "forecast = model.predict(last_5years)\n",
    "model.plot(forecast)\n",
    "plt.show()"
   ]
  },
  {
   "cell_type": "markdown",
   "id": "16500bde",
   "metadata": {},
   "source": [
    "#### 평가"
   ]
  },
  {
   "cell_type": "code",
   "execution_count": 357,
   "id": "06b7484e",
   "metadata": {
    "ExecuteTime": {
     "end_time": "2023-06-02T16:53:56.662387Z",
     "start_time": "2023-06-02T16:53:56.466262Z"
    }
   },
   "outputs": [
    {
     "name": "stderr",
     "output_type": "stream",
     "text": [
      "INFO:prophet:Disabling weekly seasonality. Run prophet with weekly_seasonality=True to override this.\n",
      "INFO:prophet:Disabling daily seasonality. Run prophet with daily_seasonality=True to override this.\n",
      "INFO:prophet:n_changepoints greater than number of observations. Using 15.\n"
     ]
    },
    {
     "name": "stdout",
     "output_type": "stream",
     "text": [
      "\n"
     ]
    },
    {
     "data": {
      "text/plain": [
       "<prophet.forecaster.Prophet at 0x7faf0ed89bb0>"
      ]
     },
     "execution_count": 357,
     "metadata": {},
     "output_type": "execute_result"
    },
    {
     "name": "stdout",
     "output_type": "stream",
     "text": [
      "Initial log joint probability = -56.6309\n",
      "Iteration  1. Log joint probability =    25.9995. Improved by 82.6304.\n",
      "Iteration  2. Log joint probability =    33.7117. Improved by 7.71219.\n",
      "Iteration  3. Log joint probability =     34.342. Improved by 0.630318.\n",
      "Iteration  4. Log joint probability =    34.4458. Improved by 0.103864.\n",
      "Iteration  5. Log joint probability =    34.4932. Improved by 0.0473939.\n",
      "Iteration  6. Log joint probability =    34.5121. Improved by 0.0189107.\n",
      "Iteration  7. Log joint probability =    34.5597. Improved by 0.0475019.\n",
      "Iteration  8. Log joint probability =    34.5836. Improved by 0.0239699.\n",
      "Iteration  9. Log joint probability =    34.6462. Improved by 0.0625378.\n",
      "Iteration 10. Log joint probability =    34.7138. Improved by 0.0676177.\n",
      "Iteration 11. Log joint probability =    34.7168. Improved by 0.003061.\n",
      "Iteration 12. Log joint probability =    34.7368. Improved by 0.0200024.\n",
      "Iteration 13. Log joint probability =    34.7585. Improved by 0.0216198.\n",
      "Iteration 14. Log joint probability =    34.7653. Improved by 0.00686312.\n",
      "Iteration 15. Log joint probability =    34.7684. Improved by 0.00311147.\n",
      "Iteration 16. Log joint probability =    34.7715. Improved by 0.00304288.\n",
      "Iteration 17. Log joint probability =     34.775. Improved by 0.00347625.\n",
      "Iteration 18. Log joint probability =    34.7769. Improved by 0.00195121.\n",
      "Iteration 19. Log joint probability =    34.7779. Improved by 0.00100968.\n",
      "Iteration 20. Log joint probability =    34.7787. Improved by 0.00077983.\n",
      "Iteration 21. Log joint probability =    34.7793. Improved by 0.000577951.\n",
      "Iteration 22. Log joint probability =    34.7798. Improved by 0.000481717.\n",
      "Iteration 23. Log joint probability =      34.78. Improved by 0.000250765.\n",
      "Iteration 24. Log joint probability =    34.7805. Improved by 0.000542171.\n",
      "Iteration 25. Log joint probability =    34.7807. Improved by 0.000141876.\n",
      "Iteration 26. Log joint probability =    34.7808. Improved by 0.000145561.\n",
      "Iteration 27. Log joint probability =     34.781. Improved by 0.000141524.\n",
      "Iteration 28. Log joint probability =    34.7812. Improved by 0.000176579.\n",
      "Iteration 29. Log joint probability =    34.7812. Improved by 5.02441e-05.\n",
      "Iteration 30. Log joint probability =    34.7813. Improved by 0.000131742.\n",
      "Iteration 31. Log joint probability =    34.7814. Improved by 0.000100207.\n",
      "Iteration 32. Log joint probability =    34.7814. Improved by 1.51874e-05.\n",
      "Iteration 33. Log joint probability =    34.7815. Improved by 2.39152e-06.\n",
      "Iteration 34. Log joint probability =    34.7815. Improved by 2.80626e-07.\n",
      "Iteration 35. Log joint probability =    34.7815. Improved by 1.42461e-05.\n",
      "Iteration 36. Log joint probability =    34.7815. Improved by 1.65905e-06.\n",
      "Iteration 37. Log joint probability =    34.7815. Improved by 3.65804e-06.\n",
      "Iteration 38. Log joint probability =    34.7815. Improved by 3.9348e-06.\n",
      "Iteration 39. Log joint probability =    34.7815. Improved by 1.31978e-06.\n",
      "Iteration 40. Log joint probability =    34.7815. Improved by 1.33164e-06.\n",
      "Iteration 41. Log joint probability =    34.7815. Improved by 2.50848e-05.\n",
      "Iteration 42. Log joint probability =    34.7815. Improved by 1.71002e-06.\n",
      "Iteration 43. Log joint probability =    34.7815. Improved by 5.01195e-06.\n",
      "Iteration 44. Log joint probability =    34.7815. Improved by 1.86897e-07.\n",
      "Iteration 45. Log joint probability =    34.7815. Improved by 4.33829e-07.\n",
      "Iteration 46. Log joint probability =    34.7815. Improved by 3.82053e-06.\n",
      "Iteration 47. Log joint probability =    34.7815. Improved by 4.16846e-07.\n",
      "Iteration 48. Log joint probability =    34.7815. Improved by 1.02312e-05.\n",
      "Iteration 49. Log joint probability =    34.7815. Improved by 2.90245e-06.\n",
      "Iteration 50. Log joint probability =    34.7815. Improved by 8.03672e-07.\n",
      "Iteration 51. Log joint probability =    34.7815. Improved by 4.65304e-06.\n",
      "Iteration 52. Log joint probability =    34.7815. Improved by 2.12328e-06.\n",
      "Iteration 53. Log joint probability =    34.7815. Improved by 1.94056e-06.\n",
      "Iteration 54. Log joint probability =    34.7815. Improved by 1.26111e-06.\n",
      "Iteration 55. Log joint probability =    34.7815. Improved by 6.96292e-07.\n",
      "Iteration 56. Log joint probability =    34.7815. Improved by 1.17123e-06.\n",
      "Iteration 57. Log joint probability =    34.7815. Improved by 1.50642e-07.\n",
      "Iteration 58. Log joint probability =    34.7815. Improved by 4.15725e-07.\n",
      "Iteration 59. Log joint probability =    34.7815. Improved by 1.8714e-07.\n",
      "Iteration 60. Log joint probability =    34.7815. Improved by 4.65046e-08.\n",
      "Iteration 61. Log joint probability =    34.7815. Improved by 1.08829e-07.\n",
      "Iteration 62. Log joint probability =    34.7815. Improved by 2.01527e-07.\n",
      "Iteration 63. Log joint probability =    34.7815. Improved by 5.48521e-08.\n",
      "Iteration 64. Log joint probability =    34.7815. Improved by 1.48831e-08.\n",
      "Iteration 65. Log joint probability =    34.7815. Improved by 4.87212e-08.\n",
      "Iteration 66. Log joint probability =    34.7815. Improved by 1.79067e-09.\n"
     ]
    }
   ],
   "source": [
    "# 마지막 5년 제외시키기\n",
    "train = data.drop(data.index[-5:])\n",
    "y_true = train['y'][-5:].values\n",
    "\n",
    "\n",
    "# 모델 생성 후 학습\n",
    "model = Prophet()\n",
    "model.fit(train)"
   ]
  },
  {
   "cell_type": "code",
   "execution_count": 358,
   "id": "05c59970",
   "metadata": {
    "ExecuteTime": {
     "end_time": "2023-06-02T16:54:03.239081Z",
     "start_time": "2023-06-02T16:54:02.746645Z"
    }
   },
   "outputs": [
    {
     "name": "stdout",
     "output_type": "stream",
     "text": [
      "MAE: 70.989\n",
      "RMSE: 81.588\n"
     ]
    }
   ],
   "source": [
    "\n",
    "\n",
    "last_5years = list()\n",
    "for year in range(start_year, end_year):\n",
    "    last_5years.append([str(year)])\n",
    "last_5years = pd.DataFrame(last_5years, columns=['ds'])\n",
    "last_5years['ds'] = pd.to_datetime(last_5years['ds'])\n",
    "\n",
    "# 예측과 비교 \n",
    "#MAE\n",
    "forecast = model.predict(last_5years)\n",
    "y_pred = forecast['yhat'].values\n",
    "from sklearn.metrics import mean_absolute_error\n",
    "mae = mean_absolute_error(y_true, y_pred)\n",
    "print('MAE: %.3f' % mae)\n",
    "\n",
    "#RMSE\n",
    "from sklearn.metrics import mean_squared_error\n",
    "\n",
    "rmse = np.sqrt(mean_squared_error(y_true, y_pred))\n",
    "print('RMSE: %.3f' % rmse)\n"
   ]
  },
  {
   "cell_type": "code",
   "execution_count": 359,
   "id": "a50de3e2",
   "metadata": {
    "ExecuteTime": {
     "end_time": "2023-06-02T16:54:05.172472Z",
     "start_time": "2023-06-02T16:54:05.079368Z"
    },
    "scrolled": true
   },
   "outputs": [
    {
     "data": {
      "image/png": "[encoded data removed]",
      "text/plain": [
       "<Figure size 432x288 with 1 Axes>"
      ]
     },
     "metadata": {
      "needs_background": "light"
     },
     "output_type": "display_data"
    }
   ],
   "source": [
    "# 예측 결과 시각화\n",
    "plt.plot(y_true, label='Actual')\n",
    "plt.plot(y_pred, label='Predicted')\n",
    "plt.legend()\n",
    "plt.show()\n"
   ]
  },
  {
   "cell_type": "code",
   "execution_count": 360,
   "id": "a933353e",
   "metadata": {
    "ExecuteTime": {
     "end_time": "2023-06-02T16:54:07.269237Z",
     "start_time": "2023-06-02T16:54:07.252427Z"
    }
   },
   "outputs": [
    {
     "name": "stdout",
     "output_type": "stream",
     "text": [
      "          ds        yhat  yhat_lower  yhat_upper\n",
      "0 2022-01-01  555.855955  411.762384  671.386544\n",
      "1 2023-01-01  553.077170  418.001342  685.621213\n",
      "2 2024-01-01  549.730272  423.470006  682.231384\n",
      "3 2025-01-01  541.815115  408.434491  679.533476\n",
      "4 2026-01-01  539.602530  407.416302  673.266277\n",
      "-------------\n"
     ]
    },
    {
     "data": {
      "text/html": [
       "<div>\n",
       "<style scoped>\n",
       "    .dataframe tbody tr th:only-of-type {\n",
       "        vertical-align: middle;\n",
       "    }\n",
       "\n",
       "    .dataframe tbody tr th {\n",
       "        vertical-align: top;\n",
       "    }\n",
       "\n",
       "    .dataframe thead th {\n",
       "        text-align: right;\n",
       "    }\n",
       "</style>\n",
       "<table border=\"1\" class=\"dataframe\">\n",
       "  <thead>\n",
       "    <tr style=\"text-align: right;\">\n",
       "      <th></th>\n",
       "      <th>ds</th>\n",
       "      <th>y</th>\n",
       "    </tr>\n",
       "  </thead>\n",
       "  <tbody>\n",
       "    <tr>\n",
       "      <th>21</th>\n",
       "      <td>2017</td>\n",
       "      <td>797.200000</td>\n",
       "    </tr>\n",
       "    <tr>\n",
       "      <th>22</th>\n",
       "      <td>2018</td>\n",
       "      <td>741.700000</td>\n",
       "    </tr>\n",
       "    <tr>\n",
       "      <th>23</th>\n",
       "      <td>2019</td>\n",
       "      <td>1111.100000</td>\n",
       "    </tr>\n",
       "    <tr>\n",
       "      <th>24</th>\n",
       "      <td>2020</td>\n",
       "      <td>1626.985753</td>\n",
       "    </tr>\n",
       "    <tr>\n",
       "      <th>25</th>\n",
       "      <td>2021</td>\n",
       "      <td>1530.355616</td>\n",
       "    </tr>\n",
       "  </tbody>\n",
       "</table>\n",
       "</div>"
      ],
      "text/plain": [
       "      ds            y\n",
       "21  2017   797.200000\n",
       "22  2018   741.700000\n",
       "23  2019  1111.100000\n",
       "24  2020  1626.985753\n",
       "25  2021  1530.355616"
      ]
     },
     "execution_count": 360,
     "metadata": {},
     "output_type": "execute_result"
    }
   ],
   "source": [
    "print(forecast[['ds', 'yhat', 'yhat_lower', 'yhat_upper']].head())\n",
    "print('-------------')\n",
    "data.tail()"
   ]
  },
  {
   "cell_type": "markdown",
   "id": "d9312f64",
   "metadata": {},
   "source": [
    "### 광주"
   ]
  },
  {
   "cell_type": "code",
   "execution_count": 342,
   "id": "0cdfbe77",
   "metadata": {
    "ExecuteTime": {
     "end_time": "2023-06-02T16:52:36.642295Z",
     "start_time": "2023-06-02T16:52:36.634363Z"
    }
   },
   "outputs": [],
   "source": [
    "# 데이터 준비\n",
    "data = df_r[['index', '광주']]  # 날짜와 예측 대상 변수 선택\n",
    "data.columns = ['ds', 'y']  # 열 이름 변경\n"
   ]
  },
  {
   "cell_type": "markdown",
   "id": "b40c764a",
   "metadata": {
    "ExecuteTime": {
     "end_time": "2023-06-02T07:42:15.187457Z",
     "start_time": "2023-06-02T07:42:15.179147Z"
    }
   },
   "source": [
    "#### In-Sample Forecast\n",
    "\n",
    "우선 미래나 과거를 예측하기 전에 우리가 학습으로 사용한 데이터부터 잘 예측이 되는지 확인해 볼 필요가 있다.\n",
    "\n",
    "이를 In-Sample Forecast라고 하며, 이 결과를 검토함으로써 모델이 얼마나 좋은지 확인할 수 있다. 즉 train set을 얼마나 잘 학습했는가를 판단하는 것이다.\n",
    "\n"
   ]
  },
  {
   "cell_type": "code",
   "execution_count": 343,
   "id": "c2f47b1d",
   "metadata": {
    "ExecuteTime": {
     "end_time": "2023-06-02T16:52:37.803047Z",
     "start_time": "2023-06-02T16:52:37.432807Z"
    }
   },
   "outputs": [
    {
     "name": "stderr",
     "output_type": "stream",
     "text": [
      "INFO:prophet:Disabling weekly seasonality. Run prophet with weekly_seasonality=True to override this.\n",
      "INFO:prophet:Disabling daily seasonality. Run prophet with daily_seasonality=True to override this.\n",
      "INFO:prophet:n_changepoints greater than number of observations. Using 19.\n"
     ]
    },
    {
     "data": {
      "text/plain": [
       "<prophet.forecaster.Prophet at 0x7faf18c83e20>"
      ]
     },
     "execution_count": 343,
     "metadata": {},
     "output_type": "execute_result"
    },
    {
     "name": "stdout",
     "output_type": "stream",
     "text": [
      "\n",
      "Initial log joint probability = -52.2407\n",
      "Iteration  1. Log joint probability =    9.94733. Improved by 62.188.\n",
      "Iteration  2. Log joint probability =    35.5565. Improved by 25.6092.\n",
      "Iteration  3. Log joint probability =    35.5779. Improved by 0.0213547.\n",
      "Iteration  4. Log joint probability =    35.6052. Improved by 0.0273471.\n",
      "Iteration  5. Log joint probability =     35.675. Improved by 0.0697616.\n",
      "Iteration  6. Log joint probability =    36.3249. Improved by 0.649951.\n",
      "Iteration  7. Log joint probability =     36.361. Improved by 0.0360445.\n",
      "Iteration  8. Log joint probability =    36.4392. Improved by 0.0781728.\n",
      "Iteration  9. Log joint probability =    36.4603. Improved by 0.0211746.\n",
      "Iteration 10. Log joint probability =    36.5079. Improved by 0.0475167.\n",
      "Iteration 11. Log joint probability =    36.5314. Improved by 0.0235551.\n",
      "Iteration 12. Log joint probability =    36.6852. Improved by 0.153785.\n",
      "Iteration 13. Log joint probability =    36.8107. Improved by 0.125521.\n",
      "Iteration 14. Log joint probability =    36.8175. Improved by 0.00676415.\n",
      "Iteration 15. Log joint probability =    36.9468. Improved by 0.129284.\n",
      "Iteration 16. Log joint probability =    36.9896. Improved by 0.0428598.\n",
      "Iteration 17. Log joint probability =     37.088. Improved by 0.0983534.\n",
      "Iteration 18. Log joint probability =    37.1132. Improved by 0.0252214.\n",
      "Iteration 19. Log joint probability =    37.1139. Improved by 0.00073363.\n",
      "Iteration 20. Log joint probability =    37.4213. Improved by 0.307373.\n",
      "Iteration 21. Log joint probability =    37.4615. Improved by 0.0402196.\n",
      "Iteration 22. Log joint probability =    37.5039. Improved by 0.042369.\n",
      "Iteration 23. Log joint probability =    37.5432. Improved by 0.0392593.\n",
      "Iteration 24. Log joint probability =     37.883. Improved by 0.339875.\n",
      "Iteration 25. Log joint probability =    38.0395. Improved by 0.15651.\n",
      "Iteration 26. Log joint probability =    38.0479. Improved by 0.00837975.\n",
      "Iteration 27. Log joint probability =    38.1954. Improved by 0.147532.\n",
      "Iteration 28. Log joint probability =    38.2776. Improved by 0.0821293.\n",
      "Iteration 29. Log joint probability =    38.3523. Improved by 0.0747266.\n",
      "Iteration 30. Log joint probability =    38.3609. Improved by 0.0086072.\n",
      "Iteration 31. Log joint probability =    38.3938. Improved by 0.0328834.\n",
      "Iteration 32. Log joint probability =     38.402. Improved by 0.00823485.\n",
      "Iteration 33. Log joint probability =    38.4125. Improved by 0.0105201.\n",
      "Iteration 34. Log joint probability =    38.4156. Improved by 0.00308858.\n",
      "Iteration 35. Log joint probability =    38.4199. Improved by 0.00425369.\n",
      "Iteration 36. Log joint probability =    38.4235. Improved by 0.00365773.\n",
      "Iteration 37. Log joint probability =    38.4268. Improved by 0.00325176.\n",
      "Iteration 38. Log joint probability =    38.4272. Improved by 0.00038408.\n",
      "Iteration 39. Log joint probability =    38.4275. Improved by 0.000287725.\n",
      "Iteration 40. Log joint probability =    38.4277. Improved by 0.000244775.\n",
      "Iteration 41. Log joint probability =     38.428. Improved by 0.000250901.\n",
      "Iteration 42. Log joint probability =    38.4309. Improved by 0.00288766.\n",
      "Iteration 43. Log joint probability =    38.4311. Improved by 0.000288949.\n",
      "Iteration 44. Log joint probability =    38.4325. Improved by 0.00131132.\n",
      "Iteration 45. Log joint probability =    38.4327. Improved by 0.000289858.\n",
      "Iteration 46. Log joint probability =    38.4339. Improved by 0.00113615.\n",
      "Iteration 47. Log joint probability =    38.4346. Improved by 0.000684141.\n",
      "Iteration 48. Log joint probability =    38.4353. Improved by 0.000730325.\n",
      "Iteration 49. Log joint probability =    38.4354. Improved by 5.26317e-05.\n",
      "Iteration 50. Log joint probability =    38.4356. Improved by 0.000233366.\n",
      "Iteration 51. Log joint probability =     38.436. Improved by 0.000457999.\n",
      "Iteration 52. Log joint probability =    38.4363. Improved by 0.000239929.\n",
      "Iteration 53. Log joint probability =    38.4363. Improved by 6.23633e-05.\n",
      "Iteration 54. Log joint probability =    38.4364. Improved by 7.98276e-05.\n",
      "Iteration 55. Log joint probability =    38.4365. Improved by 2.92412e-05.\n",
      "Iteration 56. Log joint probability =    38.4365. Improved by 3.47844e-05.\n",
      "Iteration 57. Log joint probability =    38.4365. Improved by 1.13316e-05.\n",
      "Iteration 58. Log joint probability =    38.4365. Improved by 1.93161e-05.\n",
      "Iteration 59. Log joint probability =    38.4365. Improved by 2.15652e-05.\n",
      "Iteration 60. Log joint probability =    38.4366. Improved by 1.31643e-05.\n",
      "Iteration 61. Log joint probability =    38.4366. Improved by 4.64912e-06.\n",
      "Iteration 62. Log joint probability =    38.4366. Improved by 2.1692e-06.\n",
      "Iteration 63. Log joint probability =    38.4366. Improved by 8.15137e-06.\n",
      "Iteration 64. Log joint probability =    38.4366. Improved by 3.10917e-06.\n",
      "Iteration 65. Log joint probability =    38.4366. Improved by 3.21814e-07.\n",
      "Iteration 66. Log joint probability =    38.4366. Improved by 6.30203e-07.\n",
      "Iteration 67. Log joint probability =    38.4366. Improved by 1.49044e-06.\n",
      "Iteration 68. Log joint probability =    38.4366. Improved by"
     ]
    }
   ],
   "source": [
    "# 데이터 준비\n",
    "data = df_r[['index', '광주']]  # 날짜와 예측 대상 변수 선택\n",
    "data.columns = ['ds', 'y']  # 열 이름 변경\n",
    "\n",
    "#모델생성\n",
    "model = Prophet()\n",
    "\n",
    "# 모델 학습\n",
    "model.fit(data)"
   ]
  },
  {
   "cell_type": "code",
   "execution_count": 344,
   "id": "64788d7d",
   "metadata": {
    "ExecuteTime": {
     "end_time": "2023-06-02T16:52:40.588954Z",
     "start_time": "2023-06-02T16:52:40.580547Z"
    }
   },
   "outputs": [],
   "source": [
    "# train set 마지막 5년 날짜 생성\n",
    "start_year = 2017\n",
    "end_year = start_year + 5\n",
    "\n",
    "last_5years = list()\n",
    "for year in range(start_year, end_year):\n",
    "    last_5years.append([str(year)])\n",
    "last_5years = pd.DataFrame(last_5years, columns=['ds'])\n",
    "last_5years['ds'] = pd.to_datetime(last_5years['ds'])"
   ]
  },
  {
   "cell_type": "code",
   "execution_count": 345,
   "id": "f00a879a",
   "metadata": {
    "ExecuteTime": {
     "end_time": "2023-06-02T16:52:41.556196Z",
     "start_time": "2023-06-02T16:52:41.090873Z"
    }
   },
   "outputs": [],
   "source": [
    "# 예측\n",
    "forecast = model.predict(last_5years)"
   ]
  },
  {
   "cell_type": "code",
   "execution_count": 346,
   "id": "0b77e1ca",
   "metadata": {
    "ExecuteTime": {
     "end_time": "2023-06-02T16:52:43.793843Z",
     "start_time": "2023-06-02T16:52:43.652431Z"
    }
   },
   "outputs": [
    {
     "data": {
      "image/png": "[encoded data removed]",
      "text/plain": [
       "<Figure size 720x432 with 1 Axes>"
      ]
     },
     "metadata": {},
     "output_type": "display_data"
    }
   ],
   "source": [
    "model.plot(forecast)\n",
    "plt.show()"
   ]
  },
  {
   "cell_type": "markdown",
   "id": "e21e536b",
   "metadata": {},
   "source": [
    "#### Out-Of-Sample Forecast\n",
    "이제 미래를 예측한다"
   ]
  },
  {
   "cell_type": "code",
   "execution_count": 347,
   "id": "6af934b4",
   "metadata": {
    "ExecuteTime": {
     "end_time": "2023-06-02T16:52:54.613371Z",
     "start_time": "2023-06-02T16:52:54.604223Z"
    }
   },
   "outputs": [],
   "source": [
    "start_year = 2022\n",
    "end_year = start_year + 5\n",
    "\n",
    "# train set 이후 5년  생성\n",
    "last_5years = list()\n",
    "for year in range(start_year, end_year):\n",
    "    last_5years.append([str(year)])\n",
    "last_5years = pd.DataFrame(last_5years, columns=['ds'])\n",
    "last_5years['ds'] = pd.to_datetime(last_5years['ds'])"
   ]
  },
  {
   "cell_type": "code",
   "execution_count": 348,
   "id": "62f960e5",
   "metadata": {
    "ExecuteTime": {
     "end_time": "2023-06-02T16:52:55.789639Z",
     "start_time": "2023-06-02T16:52:55.196640Z"
    }
   },
   "outputs": [
    {
     "data": {
      "image/png": "[encoded data removed]",
      "text/plain": [
       "<Figure size 720x432 with 1 Axes>"
      ]
     },
     "metadata": {},
     "output_type": "display_data"
    }
   ],
   "source": [
    "forecast = model.predict(last_5years)\n",
    "model.plot(forecast)\n",
    "plt.show()"
   ]
  },
  {
   "cell_type": "markdown",
   "id": "8b0338a7",
   "metadata": {},
   "source": [
    "#### 평가"
   ]
  },
  {
   "cell_type": "code",
   "execution_count": 349,
   "id": "de577259",
   "metadata": {
    "ExecuteTime": {
     "end_time": "2023-06-02T16:52:59.309855Z",
     "start_time": "2023-06-02T16:52:58.319945Z"
    }
   },
   "outputs": [
    {
     "name": "stderr",
     "output_type": "stream",
     "text": [
      "INFO:prophet:Disabling weekly seasonality. Run prophet with weekly_seasonality=True to override this.\n",
      "INFO:prophet:Disabling daily seasonality. Run prophet with daily_seasonality=True to override this.\n",
      "INFO:prophet:n_changepoints greater than number of observations. Using 15.\n"
     ]
    },
    {
     "name": "stdout",
     "output_type": "stream",
     "text": [
      "\n",
      "Initial log joint probability = -56.9174\n",
      "Iteration  1. Log joint probability =     9.6507. Improved by 66.5681.\n",
      "Iteration  2. Log joint probability =    21.9778. Improved by 12.3271.\n",
      "Iteration  3. Log joint probability =    26.1762. Improved by 4.19843.\n",
      "Iteration  4. Log joint probability =    27.4324. Improved by 1.2562.\n",
      "Iteration  5. Log joint probability =    27.6936. Improved by 0.261199.\n",
      "Iteration  6. Log joint probability =    27.7088. Improved by 0.0151847.\n",
      "Iteration  7. Log joint probability =    27.7219. Improved by 0.0130374.\n",
      "Iteration  8. Log joint probability =    27.7653. Improved by 0.0434819.\n",
      "Iteration  9. Log joint probability =     27.861. Improved by 0.0956074.\n",
      "Iteration 10. Log joint probability =    27.8614. Improved by 0.000471291.\n",
      "Iteration 11. Log joint probability =    27.9106. Improved by 0.0492089.\n",
      "Iteration 12. Log joint probability =    27.9602. Improved by 0.0495681.\n",
      "Iteration 13. Log joint probability =    28.0176. Improved by 0.0574365.\n",
      "Iteration 14. Log joint probability =    28.0381. Improved by 0.0204313.\n",
      "Iteration 15. Log joint probability =    28.0388. Improved by 0.000719709.\n",
      "Iteration 16. Log joint probability =    28.0511. Improved by 0.0123424.\n",
      "Iteration 17. Log joint probability =    28.0529. Improved by 0.00178275.\n",
      "Iteration 18. Log joint probability =    28.0609. Improved by 0.00801249.\n",
      "Iteration 19. Log joint probability =    28.0632. Improved by 0.00230578.\n",
      "Iteration 20. Log joint probability =    28.0642. Improved by 0.000962163.\n",
      "Iteration 21. Log joint probability =    28.0646. Improved by 0.00042821.\n",
      "Iteration 22. Log joint probability =    28.0653. Improved by 0.0006695.\n",
      "Iteration 23. Log joint probability =    28.0656. Improved by 0.000338036.\n",
      "Iteration 24. Log joint probability =    28.0663. Improved by 0.000678323.\n",
      "Iteration 25. Log joint probability =    28.0665. Improved by 0.00022777.\n",
      "Iteration 26. Log joint probability =    28.0667. Improved by 0.000169002.\n",
      "Iteration 27. Log joint probability =    28.0668. Improved by 9.65038e-05.\n",
      "Iteration 28. Log joint probability =    28.0669. Improved by 0.000109943.\n",
      "Iteration 29. Log joint probability =    28.0671. Improved by 0.000141432.\n",
      "Iteration 30. Log joint probability =    28.0671. Improved by 3.69927e-05.\n",
      "Iteration 31. Log joint probability =    28.0672. Improved by 8.57625e-05.\n",
      "Iteration 32. Log joint probability =    28.0672. Improved by 4.34233e-05.\n",
      "Iteration 33. Log joint probability =    28.0672. Improved by 1.69169e-05.\n",
      "Iteration 34. Log joint probability =    28.0673. Improved by 1.96396e-05.\n",
      "Iteration 35. Log joint probability =    28.0673. Improved by 3.4969e-06.\n",
      "Iteration 36. Log joint probability =    28.0673. Improved by 9.77933e-06.\n",
      "Iteration 37. Log joint probability =    28.0673. Improved by 5.58305e-06.\n",
      "Iteration 38. Log joint probability =    28.0673. Improved by 2.31501e-06.\n",
      "Iteration 39. Log joint probability =    28.0673. Improved by 6.21387e-07.\n",
      "Iteration 40. Log joint probability =    28.0673. Improved by 2.76949e-06.\n",
      "Iteration 41. Log joint probability =    28.0673. Improved by 1.4892e-06.\n",
      "Iteration 42. Log joint probability =    28.0673. Improved by 6.1352e-07.\n",
      "Iteration 43. Log joint probability =    28.0673. Improved by 1.61467e-06.\n",
      "Iteration 44. Log joint probability =    28.0673. Improved by 1.37815e-07.\n",
      "Iteration 45. Log joint probability =    28.0673. Improved by 3.17289e-07.\n",
      "Iteration 46. Log joint probability =    28.0673. Improved by 4.67272e-07.\n",
      "Iteration 47. Log joint probability =    28.0673. Improved by 1.17134e-07.\n",
      "Iteration 48. Log joint probability =    28.0673. Improved by 2.01253e-07.\n",
      "Iteration 49. Log joint probability =    28.0673. Improved by 4.3487e-08.\n",
      "Iteration 50. Log joint probability =    28.0673. Improved by 8.55502e-08.\n",
      "Iteration 51. Log joint probability =    28.0673. Improved by 8.62814e-08.\n",
      "Iteration 52. Log joint probability =    28.0673. Improved by 6.54548e-09.\n",
      "MAE: 41.689\n",
      "RMSE: 41.917\n"
     ]
    }
   ],
   "source": [
    "\n",
    "# 마지막 5년 제외시키기\n",
    "train = data.drop(data.index[-5:])\n",
    "y_true = train['y'][-5:].values\n",
    "\n",
    "# 모델 생성 후 학습\n",
    "model = Prophet()\n",
    "model.fit(train)\n",
    "\n",
    "\n",
    "# train set 마지막 5년 날짜 생성\n",
    "start_year = 2017\n",
    "end_year = start_year + 5\n",
    "\n",
    "last_5years = list()\n",
    "for year in range(start_year, end_year):\n",
    "    last_5years.append([str(year)])\n",
    "last_5years = pd.DataFrame(last_5years, columns=['ds'])\n",
    "last_5years['ds'] = pd.to_datetime(last_5years['ds'])\n",
    "\n",
    "# 예측과 비교 \n",
    "#MAE\n",
    "forecast = model.predict(last_5years)\n",
    "y_pred = forecast['yhat'].values\n",
    "from sklearn.metrics import mean_absolute_error\n",
    "mae = mean_absolute_error(y_true, y_pred)\n",
    "print('MAE: %.3f' % mae)\n",
    "\n",
    "#RMSE\n",
    "from sklearn.metrics import mean_squared_error\n",
    "\n",
    "rmse = np.sqrt(mean_squared_error(y_true, y_pred))\n",
    "print('RMSE: %.3f' % rmse)\n"
   ]
  },
  {
   "cell_type": "code",
   "execution_count": 350,
   "id": "bcee5ced",
   "metadata": {
    "ExecuteTime": {
     "end_time": "2023-06-02T16:53:01.691792Z",
     "start_time": "2023-06-02T16:53:01.602668Z"
    },
    "scrolled": true
   },
   "outputs": [
    {
     "data": {
      "image/png": "[encoded data removed]",
      "text/plain": [
       "<Figure size 432x288 with 1 Axes>"
      ]
     },
     "metadata": {
      "needs_background": "light"
     },
     "output_type": "display_data"
    }
   ],
   "source": [
    "# 예측 결과 시각화\n",
    "plt.plot(y_true, label='Actual')\n",
    "plt.plot(y_pred, label='Predicted')\n",
    "plt.legend()\n",
    "plt.show()\n"
   ]
  },
  {
   "cell_type": "markdown",
   "id": "4a2f1e8a",
   "metadata": {},
   "source": [
    "### 제주"
   ]
  },
  {
   "cell_type": "code",
   "execution_count": 362,
   "id": "6704eb0c",
   "metadata": {
    "ExecuteTime": {
     "end_time": "2023-06-02T17:00:56.484014Z",
     "start_time": "2023-06-02T17:00:56.477399Z"
    }
   },
   "outputs": [],
   "source": [
    "# 데이터 준비\n",
    "data = df_r[['index', '제주']]  # 날짜와 예측 대상 변수 선택\n",
    "data.columns = ['ds', 'y']  # 열 이름 변경\n"
   ]
  },
  {
   "cell_type": "markdown",
   "id": "c4979551",
   "metadata": {
    "ExecuteTime": {
     "end_time": "2023-06-02T07:42:15.187457Z",
     "start_time": "2023-06-02T07:42:15.179147Z"
    }
   },
   "source": [
    "#### In-Sample Forecast\n",
    "\n",
    "우선 미래나 과거를 예측하기 전에 우리가 학습으로 사용한 데이터부터 잘 예측이 되는지 확인해 볼 필요가 있다.\n",
    "\n",
    "이를 In-Sample Forecast라고 하며, 이 결과를 검토함으로써 모델이 얼마나 좋은지 확인할 수 있다. 즉 train set을 얼마나 잘 학습했는가를 판단하는 것이다.\n",
    "\n"
   ]
  },
  {
   "cell_type": "code",
   "execution_count": 363,
   "id": "c961c0d0",
   "metadata": {
    "ExecuteTime": {
     "end_time": "2023-06-02T17:00:57.313924Z",
     "start_time": "2023-06-02T17:00:57.047843Z"
    }
   },
   "outputs": [
    {
     "name": "stderr",
     "output_type": "stream",
     "text": [
      "INFO:prophet:Disabling weekly seasonality. Run prophet with weekly_seasonality=True to override this.\n",
      "INFO:prophet:Disabling daily seasonality. Run prophet with daily_seasonality=True to override this.\n",
      "INFO:prophet:n_changepoints greater than number of observations. Using 19.\n"
     ]
    },
    {
     "name": "stdout",
     "output_type": "stream",
     "text": [
      "\n"
     ]
    },
    {
     "data": {
      "text/plain": [
       "<prophet.forecaster.Prophet at 0x7faefaecf8e0>"
      ]
     },
     "execution_count": 363,
     "metadata": {},
     "output_type": "execute_result"
    },
    {
     "name": "stdout",
     "output_type": "stream",
     "text": [
      "Initial log joint probability = -53.0239\n",
      "Iteration  1. Log joint probability =    15.3639. Improved by 68.3878.\n",
      "Iteration  2. Log joint probability =    25.0908. Improved by 9.72696.\n",
      "Iteration  3. Log joint probability =    35.8475. Improved by 10.7566.\n",
      "Iteration  4. Log joint probability =    36.9982. Improved by 1.15072.\n",
      "Iteration  5. Log joint probability =     37.316. Improved by 0.317827.\n",
      "Iteration  6. Log joint probability =    37.3474. Improved by 0.0314484.\n",
      "Iteration  7. Log joint probability =    37.3553. Improved by 0.00786619.\n",
      "Iteration  8. Log joint probability =    37.3945. Improved by 0.0391814.\n",
      "Iteration  9. Log joint probability =    37.4141. Improved by 0.0196043.\n",
      "Iteration 10. Log joint probability =    37.5163. Improved by 0.102228.\n",
      "Iteration 11. Log joint probability =    37.7458. Improved by 0.229498.\n",
      "Iteration 12. Log joint probability =    37.8309. Improved by 0.0850899.\n",
      "Iteration 13. Log joint probability =    37.8557. Improved by 0.0247767.\n",
      "Iteration 14. Log joint probability =    37.8756. Improved by 0.0199047.\n",
      "Iteration 15. Log joint probability =    37.8928. Improved by 0.0171581.\n",
      "Iteration 16. Log joint probability =    37.9148. Improved by 0.0220502.\n",
      "Iteration 17. Log joint probability =    37.9278. Improved by 0.0130045.\n",
      "Iteration 18. Log joint probability =    37.9345. Improved by 0.00666134.\n",
      "Iteration 19. Log joint probability =    37.9353. Improved by 0.000846852.\n",
      "Iteration 20. Log joint probability =    37.9498. Improved by 0.0144939.\n",
      "Iteration 21. Log joint probability =    37.9502. Improved by 0.000409628.\n",
      "Iteration 22. Log joint probability =    37.9559. Improved by 0.00570526.\n",
      "Iteration 23. Log joint probability =    37.9577. Improved by 0.00181893.\n",
      "Iteration 24. Log joint probability =    37.9617. Improved by 0.00397802.\n",
      "Iteration 25. Log joint probability =    37.9647. Improved by 0.0029294.\n",
      "Iteration 26. Log joint probability =    37.9656. Improved by 0.000953469.\n",
      "Iteration 27. Log joint probability =    37.9663. Improved by 0.000711783.\n",
      "Iteration 28. Log joint probability =    37.9669. Improved by 0.000611802.\n",
      "Iteration 29. Log joint probability =    37.9671. Improved by 0.00019453.\n",
      "Iteration 30. Log joint probability =    37.9672. Improved by 0.000123146.\n",
      "Iteration 31. Log joint probability =    37.9676. Improved by 0.000330813.\n",
      "Iteration 32. Log joint probability =    37.9677. Improved by 0.000151371.\n",
      "Iteration 33. Log joint probability =    37.9678. Improved by 5.69433e-05.\n",
      "Iteration 34. Log joint probability =    37.9679. Improved by 9.79011e-05.\n",
      "Iteration 35. Log joint probability =    37.9681. Improved by 0.000185671.\n",
      "Iteration 36. Log joint probability =    37.9681. Improved by 4.89196e-05.\n",
      "Iteration 37. Log joint probability =    37.9681. Improved by 2.31781e-05.\n",
      "Iteration 38. Log joint probability =    37.9682. Improved by 1.9802e-05.\n",
      "Iteration 39. Log joint probability =    37.9682. Improved by 2.47195e-05.\n",
      "Iteration 40. Log joint probability =    37.9683. Improved by 8.18183e-05.\n",
      "Iteration 41. Log joint probability =    37.9683. Improved by 5.44575e-05.\n",
      "Iteration 42. Log joint probability =    37.9684. Improved by 4.24564e-05.\n",
      "Iteration 43. Log joint probability =    37.9684. Improved by 1.51871e-05.\n",
      "Iteration 44. Log joint probability =    37.9684. Improved by 6.24558e-06.\n",
      "Iteration 45. Log joint probability =    37.9684. Improved by 2.12819e-05.\n",
      "Iteration 46. Log joint probability =    37.9684. Improved by 7.90458e-06.\n",
      "Iteration 47. Log joint probability =    37.9684. Improved by 5.90856e-06.\n",
      "Iteration 48. Log joint probability =    37.9684. Improved by 8.34159e-06.\n",
      "Iteration 49. Log joint probability =    37.9684. Improved by 3.06859e-06.\n",
      "Iteration 50. Log joint probability =    37.9684. Improved by 1.23691e-06.\n",
      "Iteration 51. Log joint probability =    37.9684. Improved by 4.0911e-06.\n",
      "Iteration 52. Log joint probability =    37.9684. Improved by 2.96942e-06.\n",
      "Iteration 53. Log joint probability =    37.9684. Improved by 1.82058e-06.\n",
      "Iteration 54. Log joint probability =    37.9684. Improved by 1.68701e-06.\n",
      "Iteration 55. Log joint probability =    37.9684. Improved by 5.77294e-07.\n",
      "Iteration 56. Log joint probability =    37.9684. Improved by 1.0617e-06.\n",
      "Iteration 57. Log joint probability =    37.9684. Improved by 1.01078e-06.\n",
      "Iteration 58. Log joint probability =    37.9684. Improved by 5.65696e-07.\n",
      "Iteration 59. Log joint probability =    37.9684. Improved by 8.94317e-07.\n",
      "Iteration 60. Log joint probability =    37.9684. Improved by 9.66811e-08.\n",
      "Iteration 61. Log joint probability =    37.9684. Improved by 3.06977e-07.\n",
      "Iteration 62. Log joint probability =    37.9684. Improved by 3.97603e-08.\n",
      "Iteration 63. Log joint probability =    37.9684. Improved by 9.86675e-08.\n",
      "Iteration 64. Log joint probability =    37.9684. Improved by 9.22659e-08.\n",
      "Iteration 65. Log joint probability =    37.9684. Improved by 1.9949e-07.\n",
      "Iteration 66. Log joint probability =    37.9684. Improved by 6.95248e-08.\n",
      "Iteration 67. Log joint probability =    37.9684. Improved by 6.60376e-08.\n",
      "Iteration 68. Log joint probability =    37.9684. Improved by 4.844e-09.\n"
     ]
    }
   ],
   "source": [
    "# 데이터 준비\n",
    "data = df_r[['index', '제주']]  # 날짜와 예측 대상 변수 선택\n",
    "data.columns = ['ds', 'y']  # 열 이름 변경\n",
    "\n",
    "#모델생성\n",
    "model = Prophet()\n",
    "\n",
    "# 모델 학습\n",
    "model.fit(data)"
   ]
  },
  {
   "cell_type": "code",
   "execution_count": 364,
   "id": "266c4108",
   "metadata": {
    "ExecuteTime": {
     "end_time": "2023-06-02T17:00:57.806255Z",
     "start_time": "2023-06-02T17:00:57.797683Z"
    }
   },
   "outputs": [],
   "source": [
    "# train set 마지막 5년 날짜 생성\n",
    "start_year = 2017\n",
    "end_year = start_year + 5\n",
    "\n",
    "last_5years = list()\n",
    "for year in range(start_year, end_year):\n",
    "    last_5years.append([str(year)])\n",
    "last_5years = pd.DataFrame(last_5years, columns=['ds'])\n",
    "last_5years['ds'] = pd.to_datetime(last_5years['ds'])"
   ]
  },
  {
   "cell_type": "code",
   "execution_count": 365,
   "id": "0dd64473",
   "metadata": {
    "ExecuteTime": {
     "end_time": "2023-06-02T17:00:59.704237Z",
     "start_time": "2023-06-02T17:00:59.215523Z"
    }
   },
   "outputs": [],
   "source": [
    "# 예측\n",
    "forecast = model.predict(last_5years)"
   ]
  },
  {
   "cell_type": "code",
   "execution_count": 366,
   "id": "43641a10",
   "metadata": {
    "ExecuteTime": {
     "end_time": "2023-06-02T17:01:00.610742Z",
     "start_time": "2023-06-02T17:01:00.464347Z"
    }
   },
   "outputs": [
    {
     "data": {
      "image/png": "[encoded data removed]",
      "text/plain": [
       "<Figure size 720x432 with 1 Axes>"
      ]
     },
     "metadata": {},
     "output_type": "display_data"
    }
   ],
   "source": [
    "model.plot(forecast)\n",
    "plt.show()"
   ]
  },
  {
   "cell_type": "markdown",
   "id": "7d52a355",
   "metadata": {
    "heading_collapsed": true
   },
   "source": [
    "#### Out-Of-Sample Forecast\n",
    "이제 미래를 예측한다"
   ]
  },
  {
   "cell_type": "code",
   "execution_count": 256,
   "id": "c33b8126",
   "metadata": {
    "ExecuteTime": {
     "end_time": "2023-06-02T16:26:04.460066Z",
     "start_time": "2023-06-02T16:26:04.451147Z"
    },
    "hidden": true
   },
   "outputs": [],
   "source": [
    "start_year = 2022\n",
    "end_year = start_year + 5\n",
    "\n",
    "# train set 이후 5년  생성\n",
    "last_5years = list()\n",
    "for year in range(start_year, end_year):\n",
    "    last_5years.append([str(year)])\n",
    "last_5years = pd.DataFrame(last_5years, columns=['ds'])\n",
    "last_5years['ds'] = pd.to_datetime(last_5years['ds'])"
   ]
  },
  {
   "cell_type": "code",
   "execution_count": 257,
   "id": "e307e991",
   "metadata": {
    "ExecuteTime": {
     "end_time": "2023-06-02T16:26:05.314098Z",
     "start_time": "2023-06-02T16:26:04.713940Z"
    },
    "hidden": true
   },
   "outputs": [
    {
     "data": {
      "image/png": "[encoded data removed]",
      "text/plain": [
       "<Figure size 720x432 with 1 Axes>"
      ]
     },
     "metadata": {},
     "output_type": "display_data"
    }
   ],
   "source": [
    "forecast = model.predict(last_5years)\n",
    "model.plot(forecast)\n",
    "plt.show()"
   ]
  },
  {
   "cell_type": "markdown",
   "id": "354786ed",
   "metadata": {},
   "source": [
    "#### 평가"
   ]
  },
  {
   "cell_type": "code",
   "execution_count": 367,
   "id": "cf633c02",
   "metadata": {
    "ExecuteTime": {
     "end_time": "2023-06-02T17:01:04.113039Z",
     "start_time": "2023-06-02T17:01:03.208234Z"
    }
   },
   "outputs": [
    {
     "name": "stderr",
     "output_type": "stream",
     "text": [
      "INFO:prophet:Disabling weekly seasonality. Run prophet with weekly_seasonality=True to override this.\n",
      "INFO:prophet:Disabling daily seasonality. Run prophet with daily_seasonality=True to override this.\n",
      "INFO:prophet:n_changepoints greater than number of observations. Using 15.\n"
     ]
    },
    {
     "name": "stdout",
     "output_type": "stream",
     "text": [
      "\n",
      "Initial log joint probability = -56.8229\n",
      "Iteration  1. Log joint probability =    10.1272. Improved by 66.9502.\n",
      "Iteration  2. Log joint probability =    18.7244. Improved by 8.5972.\n",
      "Iteration  3. Log joint probability =    25.9195. Improved by 7.19511.\n",
      "Iteration  4. Log joint probability =    31.3473. Improved by 5.4278.\n",
      "Iteration  5. Log joint probability =    31.5662. Improved by 0.218826.\n",
      "Iteration  6. Log joint probability =    31.6935. Improved by 0.127322.\n",
      "Iteration  7. Log joint probability =    31.8376. Improved by 0.144107.\n",
      "Iteration  8. Log joint probability =    31.8508. Improved by 0.0132117.\n",
      "Iteration  9. Log joint probability =    31.9042. Improved by 0.0533591.\n",
      "Iteration 10. Log joint probability =    31.9352. Improved by 0.0310596.\n",
      "Iteration 11. Log joint probability =    31.9475. Improved by 0.0122679.\n",
      "Iteration 12. Log joint probability =      31.96. Improved by 0.0125465.\n",
      "Iteration 13. Log joint probability =     31.961. Improved by 0.000924379.\n",
      "Iteration 14. Log joint probability =    31.9642. Improved by 0.00318953.\n",
      "Iteration 15. Log joint probability =    31.9684. Improved by 0.00423099.\n",
      "Iteration 16. Log joint probability =    31.9701. Improved by 0.00171136.\n",
      "Iteration 17. Log joint probability =    31.9704. Improved by 0.000274082.\n",
      "Iteration 18. Log joint probability =    31.9729. Improved by 0.00254061.\n",
      "Iteration 19. Log joint probability =    31.9744. Improved by 0.00149381.\n",
      "Iteration 20. Log joint probability =    31.9756. Improved by 0.00120504.\n",
      "Iteration 21. Log joint probability =    31.9764. Improved by 0.000753076.\n",
      "Iteration 22. Log joint probability =    31.9765. Improved by 0.000150709.\n",
      "Iteration 23. Log joint probability =     31.977. Improved by 0.000449414.\n",
      "Iteration 24. Log joint probability =    31.9772. Improved by 0.000269711.\n",
      "Iteration 25. Log joint probability =    31.9773. Improved by 6.39172e-05.\n",
      "Iteration 26. Log joint probability =    31.9774. Improved by 6.09283e-05.\n",
      "Iteration 27. Log joint probability =    31.9774. Improved by 1.07211e-05.\n",
      "Iteration 28. Log joint probability =    31.9774. Improved by 1.52938e-05.\n",
      "Iteration 29. Log joint probability =    31.9774. Improved by 9.2319e-07.\n",
      "Iteration 30. Log joint probability =    31.9774. Improved by 5.64763e-06.\n",
      "Iteration 31. Log joint probability =    31.9774. Improved by 1.04403e-05.\n",
      "Iteration 32. Log joint probability =    31.9774. Improved by 1.23811e-05.\n",
      "Iteration 33. Log joint probability =    31.9774. Improved by 1.54468e-06.\n",
      "Iteration 34. Log joint probability =    31.9774. Improved by 7.14298e-06.\n",
      "Iteration 35. Log joint probability =    31.9774. Improved by 3.35778e-07.\n",
      "Iteration 36. Log joint probability =    31.9774. Improved by 4.11638e-06.\n",
      "Iteration 37. Log joint probability =    31.9774. Improved by 5.78098e-07.\n",
      "Iteration 38. Log joint probability =    31.9774. Improved by 7.40433e-07.\n",
      "Iteration 39. Log joint probability =    31.9774. Improved by 5.65123e-07.\n",
      "Iteration 40. Log joint probability =    31.9774. Improved by 5.37216e-08.\n",
      "Iteration 41. Log joint probability =    31.9774. Improved by 1.36459e-07.\n",
      "Iteration 42. Log joint probability =    31.9774. Improved by 2.41098e-07.\n",
      "Iteration 43. Log joint probability =    31.9774. Improved by 2.2798e-07.\n",
      "Iteration 44. Log joint probability =    31.9774. Improved by 1.25109e-07.\n",
      "Iteration 45. Log joint probability =    31.9774. Improved by 1.19804e-07.\n",
      "Iteration 46. Log joint probability =    31.9774. Improved by 3.27966e-08.\n",
      "Iteration 47. Log joint probability =    31.9774. Improved by 7.41611e-09.\n",
      "MAE: 39.136\n",
      "RMSE: 49.386\n"
     ]
    }
   ],
   "source": [
    "# 마지막 5년 제외시키기\n",
    "train = data.drop(data.index[-5:])\n",
    "y_true = data['y'][-5:].values\n",
    "\n",
    "# 모델 생성 후 학습\n",
    "model = Prophet()\n",
    "model.fit(train)\n",
    "\n",
    "\n",
    "# train set 마지막 5년 날짜 생성\n",
    "start_year = 2017\n",
    "end_year = start_year + 5\n",
    "\n",
    "last_5years = list()\n",
    "for year in range(start_year, end_year):\n",
    "    last_5years.append([str(year)])\n",
    "last_5years = pd.DataFrame(last_5years, columns=['ds'])\n",
    "last_5years['ds'] = pd.to_datetime(last_5years['ds'])\n",
    "\n",
    "# 예측과 비교 \n",
    "#MAE\n",
    "forecast = model.predict(last_5years)\n",
    "y_pred = forecast['yhat'].values\n",
    "from sklearn.metrics import mean_absolute_error\n",
    "mae = mean_absolute_error(y_true, y_pred)\n",
    "print('MAE: %.3f' % mae)\n",
    "\n",
    "#RMSE\n",
    "from sklearn.metrics import mean_squared_error\n",
    "\n",
    "rmse = np.sqrt(mean_squared_error(y_true, y_pred))\n",
    "print('RMSE: %.3f' % rmse)\n"
   ]
  },
  {
   "cell_type": "code",
   "execution_count": 368,
   "id": "b7206da3",
   "metadata": {
    "ExecuteTime": {
     "end_time": "2023-06-02T17:01:05.637825Z",
     "start_time": "2023-06-02T17:01:05.547052Z"
    }
   },
   "outputs": [
    {
     "data": {
      "image/png": "[encoded data removed]",
      "text/plain": [
       "<Figure size 432x288 with 1 Axes>"
      ]
     },
     "metadata": {
      "needs_background": "light"
     },
     "output_type": "display_data"
    }
   ],
   "source": [
    "# 예측 결과 시각화\n",
    "plt.plot(y_true, label='Actual')\n",
    "plt.plot(y_pred, label='Predicted')\n",
    "plt.legend()\n",
    "plt.show()\n"
   ]
  },
  {
   "cell_type": "markdown",
   "id": "f64e19e4",
   "metadata": {},
   "source": [
    "### 부산"
   ]
  },
  {
   "cell_type": "markdown",
   "id": "a822257c",
   "metadata": {
    "ExecuteTime": {
     "end_time": "2023-06-02T07:42:15.187457Z",
     "start_time": "2023-06-02T07:42:15.179147Z"
    }
   },
   "source": [
    "#### In-Sample Forecast\n",
    "\n",
    "우선 미래나 과거를 예측하기 전에 우리가 학습으로 사용한 데이터부터 잘 예측이 되는지 확인해 볼 필요가 있다.\n",
    "\n",
    "이를 In-Sample Forecast라고 하며, 이 결과를 검토함으로써 모델이 얼마나 좋은지 확인할 수 있다. 즉 train set을 얼마나 잘 학습했는가를 판단하는 것이다.\n",
    "\n"
   ]
  },
  {
   "cell_type": "code",
   "execution_count": 326,
   "id": "a2d7d2d5",
   "metadata": {
    "ExecuteTime": {
     "end_time": "2023-06-02T16:51:09.710608Z",
     "start_time": "2023-06-02T16:51:09.702709Z"
    }
   },
   "outputs": [],
   "source": [
    "# 데이터 준비\n",
    "data = df_r[['index', '부산']]  # 날짜와 예측 대상 변수 선택\n",
    "data.columns = ['ds', 'y']  # 열 이름 변경\n"
   ]
  },
  {
   "cell_type": "code",
   "execution_count": 327,
   "id": "dfa03900",
   "metadata": {
    "ExecuteTime": {
     "end_time": "2023-06-02T16:51:10.493825Z",
     "start_time": "2023-06-02T16:51:10.086112Z"
    },
    "scrolled": false
   },
   "outputs": [
    {
     "name": "stderr",
     "output_type": "stream",
     "text": [
      "INFO:prophet:Disabling weekly seasonality. Run prophet with weekly_seasonality=True to override this.\n",
      "INFO:prophet:Disabling daily seasonality. Run prophet with daily_seasonality=True to override this.\n",
      "INFO:prophet:n_changepoints greater than number of observations. Using 19.\n"
     ]
    },
    {
     "name": "stdout",
     "output_type": "stream",
     "text": [
      "\n"
     ]
    },
    {
     "data": {
      "text/plain": [
       "<prophet.forecaster.Prophet at 0x7faee0d260d0>"
      ]
     },
     "execution_count": 327,
     "metadata": {},
     "output_type": "execute_result"
    },
    {
     "name": "stdout",
     "output_type": "stream",
     "text": [
      "Initial log joint probability = -52.1112\n",
      "Iteration  1. Log joint probability =    14.4875. Improved by 66.5987.\n",
      "Iteration  2. Log joint probability =     37.833. Improved by 23.3455.\n",
      "Iteration  3. Log joint probability =    38.0136. Improved by 0.180664.\n",
      "Iteration  4. Log joint probability =    38.0676. Improved by 0.0539902.\n",
      "Iteration  5. Log joint probability =    38.0963. Improved by 0.0286546.\n",
      "Iteration  6. Log joint probability =    38.1127. Improved by 0.0163858.\n",
      "Iteration  7. Log joint probability =    38.1562. Improved by 0.0434804.\n",
      "Iteration  8. Log joint probability =    38.1887. Improved by 0.0325724.\n",
      "Iteration  9. Log joint probability =    38.2359. Improved by 0.0471297.\n",
      "Iteration 10. Log joint probability =     38.282. Improved by 0.0461877.\n",
      "Iteration 11. Log joint probability =    38.3357. Improved by 0.0536077.\n",
      "Iteration 12. Log joint probability =    43.9621. Improved by 5.62643.\n",
      "Iteration 13. Log joint probability =    44.1839. Improved by 0.221788.\n",
      "Iteration 14. Log joint probability =    44.1937. Improved by 0.0098443.\n",
      "Iteration 15. Log joint probability =    44.2041. Improved by 0.010404.\n",
      "Iteration 16. Log joint probability =    44.2175. Improved by 0.0133878.\n",
      "Iteration 17. Log joint probability =    44.2235. Improved by 0.00599404.\n",
      "Iteration 18. Log joint probability =    44.2687. Improved by 0.0452052.\n",
      "Iteration 19. Log joint probability =    44.2943. Improved by 0.0256204.\n",
      "Iteration 20. Log joint probability =    44.3268. Improved by 0.0324243.\n",
      "Iteration 21. Log joint probability =    44.3493. Improved by 0.0225006.\n",
      "Iteration 22. Log joint probability =    44.4401. Improved by 0.0908127.\n",
      "Iteration 23. Log joint probability =    44.4647. Improved by 0.0246548.\n",
      "Iteration 24. Log joint probability =    44.4784. Improved by 0.0136553.\n",
      "Iteration 25. Log joint probability =    44.4843. Improved by 0.00592677.\n",
      "Iteration 26. Log joint probability =    44.4902. Improved by 0.00594363.\n",
      "Iteration 27. Log joint probability =    44.4943. Improved by 0.00401835.\n",
      "Iteration 28. Log joint probability =    44.4965. Improved by 0.00227673.\n",
      "Iteration 29. Log joint probability =     44.504. Improved by 0.00740892.\n",
      "Iteration 30. Log joint probability =    44.5084. Improved by 0.00445085.\n",
      "Iteration 31. Log joint probability =    44.5146. Improved by 0.00622756.\n",
      "Iteration 32. Log joint probability =     44.516. Improved by 0.00137262.\n",
      "Iteration 33. Log joint probability =    44.5162. Improved by 0.000160498.\n",
      "Iteration 34. Log joint probability =    44.5178. Improved by 0.0016093.\n",
      "Iteration 35. Log joint probability =    44.5179. Improved by 0.000137362.\n",
      "Iteration 36. Log joint probability =    44.5209. Improved by 0.00301376.\n",
      "Iteration 37. Log joint probability =    44.5234. Improved by 0.0024772.\n",
      "Iteration 38. Log joint probability =    44.5238. Improved by 0.000444397.\n",
      "Iteration 39. Log joint probability =    44.5243. Improved by 0.000493495.\n",
      "Iteration 40. Log joint probability =    44.5247. Improved by 0.000364911.\n",
      "Iteration 41. Log joint probability =    44.5252. Improved by 0.000455598.\n",
      "Iteration 42. Log joint probability =    44.5255. Improved by 0.000299991.\n",
      "Iteration 43. Log joint probability =    44.5257. Improved by 0.000221938.\n",
      "Iteration 44. Log joint probability =    44.5259. Improved by 0.000218929.\n",
      "Iteration 45. Log joint probability =    44.5261. Improved by 0.000171034.\n",
      "Iteration 46. Log joint probability =    44.5261. Improved by 5.75517e-05.\n",
      "Iteration 47. Log joint probability =    44.5262. Improved by 3.73884e-05.\n",
      "Iteration 48. Log joint probability =    44.5262. Improved by 2.42724e-05.\n",
      "Iteration 49. Log joint probability =    44.5262. Improved by 2.88259e-05.\n",
      "Iteration 50. Log joint probability =    44.5262. Improved by 1.38177e-05.\n",
      "Iteration 51. Log joint probability =    44.5263. Improved by 1.85515e-05.\n",
      "Iteration 52. Log joint probability =    44.5263. Improved by 1.54428e-05.\n",
      "Iteration 53. Log joint probability =    44.5263. Improved by 4.49359e-05.\n",
      "Iteration 54. Log joint probability =    44.5263. Improved by 1.37557e-05.\n",
      "Iteration 55. Log joint probability =    44.5264. Improved by 2.7843e-05.\n",
      "Iteration 56. Log joint probability =    44.5264. Improved by 1.39833e-05.\n",
      "Iteration 57. Log joint probability =    44.5264. Improved by 6.61196e-06.\n",
      "Iteration 58. Log joint probability =    44.5264. Improved by 3.01469e-06.\n",
      "Iteration 59. Log joint probability =    44.5264. Improved by 8.47126e-07.\n",
      "Iteration 60. Log joint probability =    44.5264. Improved by 6.57145e-06.\n",
      "Iteration 61. Log joint probability =    44.5264. Improved by 8.48321e-06.\n",
      "Iteration 62. Log joint probability =    44.5264. Improved by 7.01786e-06.\n",
      "Iteration 63. Log joint probability =    44.5264. Improved by 2.8631e-06.\n",
      "Iteration 64. Log joint probability =    44.5264. Improved by 5.13642e-06.\n",
      "Iteration 65. Log joint probability =    44.5264. Improved by 7.49812e-07.\n",
      "Iteration 66. Log joint probability =    44.5264. Improved by 2.04908e-06.\n",
      "Iteration 67. Log joint probability =    44.5264. Improved by 3.23749e-06.\n",
      "Iteration 68. Log joint probability =    44.5264. Improved by 1.19078e-06.\n",
      "Iteration 69. Log joint probability =    44.5264. Improved by 6.30328e-07.\n",
      "Iteration 70. Log joint probability =    44.5264. Improved by 6.55255e-07.\n",
      "Iteration 71. Log joint probability =    44.5264. Improved by 7.39764e-08.\n",
      "Iteration 72. Log joint probability =    44.5264. Improved by 5.27564e-07.\n",
      "Iteration 73. Log joint probability =    44.5264. Improved by 3.429e-07.\n",
      "Iteration 74. Log joint probability =    44.5264. Improved by 1.6719e-07.\n",
      "Iteration 75. Log joint probability =    44.5264. Improved by 4.56362e-08.\n",
      "Iteration 76. Log joint probability =    44.5264. Improved by 7.39725e-10.\n"
     ]
    }
   ],
   "source": [
    "#모델생성\n",
    "model = Prophet()\n",
    "\n",
    "# 모델 학습\n",
    "model.fit(data)"
   ]
  },
  {
   "cell_type": "code",
   "execution_count": 328,
   "id": "0419910c",
   "metadata": {
    "ExecuteTime": {
     "end_time": "2023-06-02T16:51:10.593484Z",
     "start_time": "2023-06-02T16:51:10.589161Z"
    }
   },
   "outputs": [],
   "source": [
    "# train set 마지막 5년 날짜 생성\n",
    "start_year = 2017\n",
    "end_year = start_year + 5\n",
    "\n",
    "last_5years = list()\n",
    "for year in range(start_year, end_year):\n",
    "    last_5years.append([str(year)])\n",
    "last_5years = pd.DataFrame(last_5years, columns=['ds'])\n",
    "last_5years['ds'] = pd.to_datetime(last_5years['ds'])"
   ]
  },
  {
   "cell_type": "code",
   "execution_count": 329,
   "id": "f0a2f4a0",
   "metadata": {
    "ExecuteTime": {
     "end_time": "2023-06-02T16:51:11.449705Z",
     "start_time": "2023-06-02T16:51:10.952394Z"
    }
   },
   "outputs": [],
   "source": [
    "# 예측\n",
    "forecast = model.predict(last_5years)"
   ]
  },
  {
   "cell_type": "code",
   "execution_count": 330,
   "id": "499a9855",
   "metadata": {
    "ExecuteTime": {
     "end_time": "2023-06-02T16:51:11.851407Z",
     "start_time": "2023-06-02T16:51:11.709785Z"
    }
   },
   "outputs": [
    {
     "data": {
      "image/png": "[encoded data removed]",
      "text/plain": [
       "<Figure size 720x432 with 1 Axes>"
      ]
     },
     "metadata": {},
     "output_type": "display_data"
    }
   ],
   "source": [
    "model.plot(forecast)\n",
    "plt.show()"
   ]
  },
  {
   "cell_type": "markdown",
   "id": "6ed0e2de",
   "metadata": {
    "heading_collapsed": true
   },
   "source": [
    "#### Out-Of-Sample Forecast\n",
    "이제 미래를 예측한다"
   ]
  },
  {
   "cell_type": "code",
   "execution_count": 331,
   "id": "794db916",
   "metadata": {
    "ExecuteTime": {
     "end_time": "2023-06-02T16:51:14.381574Z",
     "start_time": "2023-06-02T16:51:14.372124Z"
    },
    "hidden": true
   },
   "outputs": [],
   "source": [
    "start_year = 2022\n",
    "end_year = start_year + 5\n",
    "\n",
    "# train set 이후 5년  생성\n",
    "last_5years = list()\n",
    "for year in range(start_year, end_year):\n",
    "    last_5years.append([str(year)])\n",
    "last_5years = pd.DataFrame(last_5years, columns=['ds'])\n",
    "last_5years['ds'] = pd.to_datetime(last_5years['ds'])"
   ]
  },
  {
   "cell_type": "code",
   "execution_count": 332,
   "id": "c6cafe30",
   "metadata": {
    "ExecuteTime": {
     "end_time": "2023-06-02T16:51:16.510697Z",
     "start_time": "2023-06-02T16:51:15.907472Z"
    },
    "hidden": true
   },
   "outputs": [
    {
     "data": {
      "image/png": "[encoded data removed]",
      "text/plain": [
       "<Figure size 720x432 with 1 Axes>"
      ]
     },
     "metadata": {},
     "output_type": "display_data"
    }
   ],
   "source": [
    "forecast = model.predict(last_5years)\n",
    "model.plot(forecast)\n",
    "plt.show()"
   ]
  },
  {
   "cell_type": "markdown",
   "id": "cbd1446f",
   "metadata": {},
   "source": [
    "#### 평가"
   ]
  },
  {
   "cell_type": "code",
   "execution_count": 333,
   "id": "d5df98eb",
   "metadata": {
    "ExecuteTime": {
     "end_time": "2023-06-02T16:51:26.482751Z",
     "start_time": "2023-06-02T16:51:25.687554Z"
    }
   },
   "outputs": [
    {
     "name": "stderr",
     "output_type": "stream",
     "text": [
      "INFO:prophet:Disabling weekly seasonality. Run prophet with weekly_seasonality=True to override this.\n",
      "INFO:prophet:Disabling daily seasonality. Run prophet with daily_seasonality=True to override this.\n",
      "INFO:prophet:n_changepoints greater than number of observations. Using 15.\n"
     ]
    },
    {
     "name": "stdout",
     "output_type": "stream",
     "text": [
      "\n",
      "Initial log joint probability = -56.5963\n",
      "Iteration  1. Log joint probability =    25.8364. Improved by 82.4328.\n",
      "Iteration  2. Log joint probability =    37.1353. Improved by 11.2989.\n",
      "Iteration  3. Log joint probability =    40.0115. Improved by 2.87612.\n",
      "Iteration  4. Log joint probability =    40.1067. Improved by 0.0952461.\n",
      "Iteration  5. Log joint probability =    40.1142. Improved by 0.00746385.\n",
      "Iteration  6. Log joint probability =    40.1151. Improved by 0.000944521.\n",
      "Iteration  7. Log joint probability =    40.1219. Improved by 0.00681582.\n",
      "Iteration  8. Log joint probability =    40.1295. Improved by 0.00758623.\n",
      "Iteration  9. Log joint probability =    40.1415. Improved by 0.0119797.\n",
      "Iteration 10. Log joint probability =    40.1435. Improved by 0.00201816.\n",
      "Iteration 11. Log joint probability =    40.1456. Improved by 0.00212175.\n",
      "Iteration 12. Log joint probability =    40.1471. Improved by 0.00148446.\n",
      "Iteration 13. Log joint probability =    40.1484. Improved by 0.00132809.\n",
      "Iteration 14. Log joint probability =    40.1489. Improved by 0.000415087.\n",
      "Iteration 15. Log joint probability =    40.1496. Improved by 0.000742406.\n",
      "Iteration 16. Log joint probability =    40.1498. Improved by 0.000152329.\n",
      "Iteration 17. Log joint probability =    40.1501. Improved by 0.000366563.\n",
      "Iteration 18. Log joint probability =    40.1502. Improved by 5.90888e-05.\n",
      "Iteration 19. Log joint probability =    40.1504. Improved by 0.000196121.\n",
      "Iteration 20. Log joint probability =    40.1505. Improved by 8.10992e-05.\n",
      "Iteration 21. Log joint probability =    40.1506. Improved by 0.000104813.\n",
      "Iteration 22. Log joint probability =    40.1506. Improved by 3.89916e-05.\n",
      "Iteration 23. Log joint probability =    40.1506. Improved by 1.12402e-06.\n",
      "Iteration 24. Log joint probability =    40.1506. Improved by 7.07397e-07.\n",
      "Iteration 25. Log joint probability =    40.1506. Improved by 8.79661e-07.\n",
      "Iteration 26. Log joint probability =    40.1506. Improved by 3.19606e-06.\n",
      "Iteration 27. Log joint probability =    40.1506. Improved by 3.34319e-05.\n",
      "Iteration 28. Log joint probability =    40.1507. Improved by 1.19224e-05.\n",
      "Iteration 29. Log joint probability =    40.1507. Improved by 5.85297e-06.\n",
      "Iteration 30. Log joint probability =    40.1507. Improved by 8.62212e-07.\n",
      "Iteration 31. Log joint probability =    40.1507. Improved by 2.62095e-06.\n",
      "Iteration 32. Log joint probability =    40.1507. Improved by 1.32573e-06.\n",
      "Iteration 33. Log joint probability =    40.1507. Improved by 1.61905e-06.\n",
      "Iteration 34. Log joint probability =    40.1507. Improved by 6.64117e-07.\n",
      "Iteration 35. Log joint probability =    40.1507. Improved by 2.25038e-07.\n",
      "Iteration 36. Log joint probability =    40.1507. Improved by 4.16161e-07.\n",
      "Iteration 37. Log joint probability =    40.1507. Improved by 2.65064e-07.\n",
      "Iteration 38. Log joint probability =    40.1507. Improved by 5.52862e-08.\n",
      "Iteration 39. Log joint probability =    40.1507. Improved by 1.94465e-08.\n",
      "Iteration 40. Log joint probability =    40.1507. Improved by 4.09574e-08.\n",
      "Iteration 41. Log joint probability =    40.1507. Improved by 1.84422e-08.\n",
      "Iteration 42. Log joint probability =    40.1507. Improved by 2.09923e-08.\n",
      "Iteration 43. Log joint probability =    40.1507. Improved by 1.20627e-08.\n",
      "Iteration 44. Log joint probability =    40.1507. Improved by 3.12603e-09.\n",
      "MAE: 14.528\n",
      "RMSE: 24.662\n"
     ]
    }
   ],
   "source": [
    "# 마지막 5년 제외시키기\n",
    "train = data.drop(data.index[-5:])\n",
    "y_true = train['y'][-5:].values\n",
    "\n",
    "\n",
    "# 모델 생성 후 학습\n",
    "model = Prophet()\n",
    "model.fit(train)\n",
    "\n",
    "\n",
    "# train set 마지막 5년 날짜 생성\n",
    "start_year = 2017\n",
    "end_year = start_year + 5\n",
    "\n",
    "last_5years = list()\n",
    "for year in range(start_year, end_year):\n",
    "    last_5years.append([str(year)])\n",
    "last_5years = pd.DataFrame(last_5years, columns=['ds'])\n",
    "last_5years['ds'] = pd.to_datetime(last_5years['ds'])\n",
    "\n",
    "# 예측과 비교 \n",
    "#MAE\n",
    "forecast = model.predict(last_5years)\n",
    "y_pred = forecast['yhat'].values\n",
    "from sklearn.metrics import mean_absolute_error\n",
    "mae = mean_absolute_error(y_true, y_pred)\n",
    "print('MAE: %.3f' % mae)\n",
    "\n",
    "#RMSE\n",
    "from sklearn.metrics import mean_squared_error\n",
    "\n",
    "rmse = np.sqrt(mean_squared_error(y_true, y_pred))\n",
    "print('RMSE: %.3f' % rmse)\n"
   ]
  },
  {
   "cell_type": "code",
   "execution_count": 334,
   "id": "5f2f24f2",
   "metadata": {
    "ExecuteTime": {
     "end_time": "2023-06-02T16:51:28.695485Z",
     "start_time": "2023-06-02T16:51:28.605174Z"
    },
    "scrolled": true
   },
   "outputs": [
    {
     "data": {
      "image/png": "[encoded data removed]",
      "text/plain": [
       "<Figure size 432x288 with 1 Axes>"
      ]
     },
     "metadata": {
      "needs_background": "light"
     },
     "output_type": "display_data"
    }
   ],
   "source": [
    "# 예측 결과 시각화\n",
    "plt.plot(y_true, label='Actual')\n",
    "plt.plot(y_pred, label='Predicted')\n",
    "plt.legend()\n",
    "plt.show()\n"
   ]
  },
  {
   "cell_type": "code",
   "execution_count": 282,
   "id": "5f45ca33",
   "metadata": {
    "ExecuteTime": {
     "end_time": "2023-06-02T16:29:14.210537Z",
     "start_time": "2023-06-02T16:29:14.188545Z"
    }
   },
   "outputs": [
    {
     "name": "stdout",
     "output_type": "stream",
     "text": [
      "          ds        yhat  yhat_lower  yhat_upper\n",
      "0 2017-01-01  304.873208  211.031021  397.958563\n",
      "1 2018-01-01  435.209953  338.542826  528.125596\n",
      "2 2019-01-01  572.510130  484.230507  671.692280\n",
      "3 2020-01-01  716.676388  619.075675  799.962065\n",
      "4 2021-01-01  534.598055  439.530249  624.553719\n",
      "-------------\n"
     ]
    },
    {
     "data": {
      "text/html": [
       "<div>\n",
       "<style scoped>\n",
       "    .dataframe tbody tr th:only-of-type {\n",
       "        vertical-align: middle;\n",
       "    }\n",
       "\n",
       "    .dataframe tbody tr th {\n",
       "        vertical-align: top;\n",
       "    }\n",
       "\n",
       "    .dataframe thead th {\n",
       "        text-align: right;\n",
       "    }\n",
       "</style>\n",
       "<table border=\"1\" class=\"dataframe\">\n",
       "  <thead>\n",
       "    <tr style=\"text-align: right;\">\n",
       "      <th></th>\n",
       "      <th>ds</th>\n",
       "      <th>y</th>\n",
       "    </tr>\n",
       "  </thead>\n",
       "  <tbody>\n",
       "    <tr>\n",
       "      <th>21</th>\n",
       "      <td>2017</td>\n",
       "      <td>389.500000</td>\n",
       "    </tr>\n",
       "    <tr>\n",
       "      <th>22</th>\n",
       "      <td>2018</td>\n",
       "      <td>340.300000</td>\n",
       "    </tr>\n",
       "    <tr>\n",
       "      <th>23</th>\n",
       "      <td>2019</td>\n",
       "      <td>508.300000</td>\n",
       "    </tr>\n",
       "    <tr>\n",
       "      <th>24</th>\n",
       "      <td>2020</td>\n",
       "      <td>791.478356</td>\n",
       "    </tr>\n",
       "    <tr>\n",
       "      <th>25</th>\n",
       "      <td>2021</td>\n",
       "      <td>534.403288</td>\n",
       "    </tr>\n",
       "  </tbody>\n",
       "</table>\n",
       "</div>"
      ],
      "text/plain": [
       "      ds           y\n",
       "21  2017  389.500000\n",
       "22  2018  340.300000\n",
       "23  2019  508.300000\n",
       "24  2020  791.478356\n",
       "25  2021  534.403288"
      ]
     },
     "execution_count": 282,
     "metadata": {},
     "output_type": "execute_result"
    }
   ],
   "source": [
    "print(forecast[['ds', 'yhat', 'yhat_lower', 'yhat_upper']].head())\n",
    "print('-------------')\n",
    "data.tail()"
   ]
  },
  {
   "cell_type": "markdown",
   "id": "1e238efc",
   "metadata": {},
   "source": [
    "### 충북"
   ]
  },
  {
   "cell_type": "code",
   "execution_count": 371,
   "id": "1cef2e06",
   "metadata": {
    "ExecuteTime": {
     "end_time": "2023-06-02T17:02:47.564883Z",
     "start_time": "2023-06-02T17:02:47.557174Z"
    }
   },
   "outputs": [],
   "source": [
    "# 데이터 준비\n",
    "data = df_r[['index', '충북']]  # 날짜와 예측 대상 변수 선택\n",
    "data.columns = ['ds', 'y']  # 열 이름 변경\n"
   ]
  },
  {
   "cell_type": "markdown",
   "id": "35655217",
   "metadata": {
    "ExecuteTime": {
     "end_time": "2023-06-02T07:42:15.187457Z",
     "start_time": "2023-06-02T07:42:15.179147Z"
    }
   },
   "source": [
    "#### In-Sample Forecast\n",
    "\n",
    "우선 미래나 과거를 예측하기 전에 우리가 학습으로 사용한 데이터부터 잘 예측이 되는지 확인해 볼 필요가 있다.\n",
    "\n",
    "이를 In-Sample Forecast라고 하며, 이 결과를 검토함으로써 모델이 얼마나 좋은지 확인할 수 있다. 즉 train set을 얼마나 잘 학습했는가를 판단하는 것이다.\n",
    "\n"
   ]
  },
  {
   "cell_type": "code",
   "execution_count": 372,
   "id": "5afce84a",
   "metadata": {
    "ExecuteTime": {
     "end_time": "2023-06-02T17:02:48.223891Z",
     "start_time": "2023-06-02T17:02:48.218811Z"
    }
   },
   "outputs": [],
   "source": [
    "# 데이터 준비\n",
    "data = df_r[['index', '충북']]  # 날짜와 예측 대상 변수 선택\n",
    "data.columns = ['ds', 'y']  # 열 이름 변경\n"
   ]
  },
  {
   "cell_type": "code",
   "execution_count": 373,
   "id": "a00b7e23",
   "metadata": {
    "ExecuteTime": {
     "end_time": "2023-06-02T17:02:52.622854Z",
     "start_time": "2023-06-02T17:02:52.345423Z"
    },
    "scrolled": false
   },
   "outputs": [
    {
     "name": "stderr",
     "output_type": "stream",
     "text": [
      "INFO:prophet:Disabling weekly seasonality. Run prophet with weekly_seasonality=True to override this.\n",
      "INFO:prophet:Disabling daily seasonality. Run prophet with daily_seasonality=True to override this.\n",
      "INFO:prophet:n_changepoints greater than number of observations. Using 19.\n"
     ]
    },
    {
     "data": {
      "text/plain": [
       "<prophet.forecaster.Prophet at 0x7faefafa2220>"
      ]
     },
     "execution_count": 373,
     "metadata": {},
     "output_type": "execute_result"
    },
    {
     "name": "stdout",
     "output_type": "stream",
     "text": [
      "\n",
      "Initial log joint probability = -52.4329\n",
      "Iteration  1. Log joint probability =    19.9459. Improved by 72.3787.\n",
      "Iteration  2. Log joint probability =    34.9677. Improved by 15.0218.\n",
      "Iteration  3. Log joint probability =    43.4172. Improved by 8.44954.\n",
      "Iteration  4. Log joint probability =    43.8868. Improved by 0.469573.\n",
      "Iteration  5. Log joint probability =    43.9181. Improved by 0.0313503.\n",
      "Iteration  6. Log joint probability =    43.9741. Improved by 0.0559726.\n",
      "Iteration  7. Log joint probability =    44.0012. Improved by 0.0271006.\n",
      "Iteration  8. Log joint probability =     44.008. Improved by 0.00676177.\n",
      "Iteration  9. Log joint probability =    44.0271. Improved by 0.0191144.\n",
      "Iteration 10. Log joint probability =     44.029. Improved by 0.00187492.\n",
      "Iteration 11. Log joint probability =    44.0355. Improved by 0.00653366.\n",
      "Iteration 12. Log joint probability =    44.0394. Improved by 0.0038875.\n",
      "Iteration 13. Log joint probability =     44.052. Improved by 0.0126045.\n",
      "Iteration 14. Log joint probability =    44.0534. Improved by 0.00146411.\n",
      "Iteration 15. Log joint probability =    44.0558. Improved by 0.00236939.\n",
      "Iteration 16. Log joint probability =    44.0575. Improved by 0.00169323.\n",
      "Iteration 17. Log joint probability =    44.0591. Improved by 0.00159532.\n",
      "Iteration 18. Log joint probability =    44.0609. Improved by 0.00177857.\n",
      "Iteration 19. Log joint probability =    44.0617. Improved by 0.000766106.\n",
      "Iteration 20. Log joint probability =    44.0617. Improved by 3.19612e-05.\n",
      "Iteration 21. Log joint probability =    44.0623. Improved by 0.000658403.\n",
      "Iteration 22. Log joint probability =     44.063. Improved by 0.000611089.\n",
      "Iteration 23. Log joint probability =    44.0635. Improved by 0.000588495.\n",
      "Iteration 24. Log joint probability =    44.0639. Improved by 0.000363252.\n",
      "Iteration 25. Log joint probability =    44.0645. Improved by 0.000622573.\n",
      "Iteration 26. Log joint probability =    44.0648. Improved by 0.000235544.\n",
      "Iteration 27. Log joint probability =    44.0649. Improved by 0.000160273.\n",
      "Iteration 28. Log joint probability =     44.065. Improved by 9.03957e-05.\n",
      "Iteration 29. Log joint probability =    44.0651. Improved by 0.000127081.\n",
      "Iteration 30. Log joint probability =    44.0651. Improved by 4.95287e-06.\n",
      "Iteration 31. Log joint probability =    44.0652. Improved by 2.72304e-05.\n",
      "Iteration 32. Log joint probability =    44.0652. Improved by 9.61772e-06.\n",
      "Iteration 33. Log joint probability =    44.0653. Improved by 7.81193e-05.\n",
      "Iteration 34. Log joint probability =    44.0653. Improved by 1.15394e-05.\n",
      "Iteration 35. Log joint probability =    44.0654. Improved by 9.24149e-05.\n",
      "Iteration 36. Log joint probability =    44.0654. Improved by 3.41437e-05.\n",
      "Iteration 37. Log joint probability =    44.0654. Improved by 1.2646e-05.\n",
      "Iteration 38. Log joint probability =    44.0654. Improved by 3.17946e-06.\n",
      "Iteration 39. Log joint probability =    44.0654. Improved by 1.15284e-05.\n",
      "Iteration 40. Log joint probability =    44.0654. Improved by 2.09317e-05.\n",
      "Iteration 41. Log joint probability =    44.0655. Improved by 8.49794e-06.\n",
      "Iteration 42. Log joint probability =    44.0655. Improved by 1.32854e-05.\n",
      "Iteration 43. Log joint probability =    44.0655. Improved by 6.40935e-06.\n",
      "Iteration 44. Log joint probability =    44.0655. Improved by 1.1213e-06.\n",
      "Iteration 45. Log joint probability =    44.0655. Improved by 3.86928e-06.\n",
      "Iteration 46. Log joint probability =    44.0655. Improved by 4.83179e-06.\n",
      "Iteration 47. Log joint probability =    44.0655. Improved by 2.60655e-06.\n",
      "Iteration 48. Log joint probability =    44.0655. Improved by 5.39749e-07.\n",
      "Iteration 49. Log joint probability =    44.0655. Improved by 1.06168e-06.\n",
      "Iteration 50. Log joint probability =    44.0655. Improved by 9.50147e-07.\n",
      "Iteration 51. Log joint probability =    44.0655. Improved by 4.35892e-07.\n",
      "Iteration 52. Log joint probability =    44.0655. Improved by 1.92821e-06.\n",
      "Iteration 53. Log joint probability =    44.0655. Improved by 1.56473e-06.\n",
      "Iteration 54. Log joint probability =    44.0655. Improved by 9.53753e-07.\n",
      "Iteration 55. Log joint probability =    44.0655. Improved by 1.41975e-06.\n",
      "Iteration 56. Log joint probability =    44.0655. Improved by 4.85582e-07.\n",
      "Iteration 57. Log joint probability =    44.0655. Improved by 1.02639e-06.\n",
      "Iteration 58. Log joint probability =    44.0655. Improved by 1.61476e-07.\n",
      "Iteration 59. Log joint probability =    44.0655. Improved by 6.47094e-08.\n",
      "Iteration 60. Log joint probability =    44.0655. Improved by 3.28791e-07.\n",
      "Iteration 61. Log joint probability =    44.0655. Improved by 4.08502e-07.\n",
      "Iteration 62. Log joint probability =    44.0655. Improved by 1.61711e-07.\n",
      "Iteration 63. Log joint probability =    44.0655. Improved by 1.25555e-07.\n",
      "Iteration 64. Log joint probability =    44.0655. Improved by 1.33577e-07.\n",
      "Iteration 65. Log joint probability =    44.0655. Improved by 4.52386e-07.\n",
      "Iteration 66. Log joint probability =    44.0655. Improved by 2.29629e-07.\n",
      "Iteration 67. Log joint probability =    44.0655. Improved by 2.94246e-07.\n",
      "Iteration 68. Log joint probability =    44.0655. Improved by 1.30936e-07.\n",
      "Iteration 69. Log joint probability =    44.0655. Improved by 7.11017e-07.\n",
      "Iteration 70. Log joint probability =    44.0655. Improved by 3.43607e-07.\n",
      "Iteration 71. Log joint probability =    44.0655. Improved by 2.11677e-08.\n",
      "Iteration 72. Log joint probability =    44.0655. Improved by 4.28883e-08.\n",
      "Iteration 73. Log joint probability =    44.0655. Improved by 1.09827e-08.\n",
      "Iteration 74. Log joint probability =    44.0655. Improved by 1.23279e-07.\n",
      "Iteration 75. Log joint probability =    44.0655. Improved by 6.65143e-08.\n",
      "Iteration 76. Log joint probability =    44.0655. Improved by 1.17845e-07.\n",
      "Iteration 77. Log joint probability =    44.0655. Improved by 5.19272e-08.\n",
      "Iteration 78. Log joint probability =    44.0655. Improved by 1.7407e-08.\n",
      "Iteration 79. Log joint probability =    44.0655. Improved by 6.89032e-08.\n",
      "Iteration 80. Log joint probability =    44.0655. Improved by 3.08729e-08.\n",
      "Iteration 81. Log joint probability =    44.0655. Improved by 6.81344e-08.\n",
      "Iteration 82. Log joint probability =    44.0655. Improved by 4.13999e-08.\n",
      "Iteration 83. Log joint probability =    44.0655. Improved by 3.44301e-08.\n",
      "Iteration 84. Log joint probability =    44.0655. Improved by 5.93307e-09.\n"
     ]
    }
   ],
   "source": [
    "#모델생성\n",
    "model = Prophet()\n",
    "\n",
    "# 모델 학습\n",
    "model.fit(data)"
   ]
  },
  {
   "cell_type": "code",
   "execution_count": 374,
   "id": "aab84457",
   "metadata": {
    "ExecuteTime": {
     "end_time": "2023-06-02T17:02:55.253910Z",
     "start_time": "2023-06-02T17:02:55.245526Z"
    }
   },
   "outputs": [],
   "source": [
    "# train set 마지막 5년 날짜 생성\n",
    "start_year = 2017\n",
    "end_year = start_year + 5\n",
    "\n",
    "last_5years = list()\n",
    "for year in range(start_year, end_year):\n",
    "    last_5years.append([str(year)])\n",
    "last_5years = pd.DataFrame(last_5years, columns=['ds'])\n",
    "last_5years['ds'] = pd.to_datetime(last_5years['ds'])"
   ]
  },
  {
   "cell_type": "code",
   "execution_count": 375,
   "id": "67bba386",
   "metadata": {
    "ExecuteTime": {
     "end_time": "2023-06-02T17:02:56.674881Z",
     "start_time": "2023-06-02T17:02:56.194760Z"
    }
   },
   "outputs": [],
   "source": [
    "# 예측\n",
    "forecast = model.predict(last_5years)"
   ]
  },
  {
   "cell_type": "code",
   "execution_count": 376,
   "id": "e89bad77",
   "metadata": {
    "ExecuteTime": {
     "end_time": "2023-06-02T17:02:59.222058Z",
     "start_time": "2023-06-02T17:02:59.079427Z"
    }
   },
   "outputs": [
    {
     "data": {
      "image/png": "[encoded data removed]",
      "text/plain": [
       "<Figure size 720x432 with 1 Axes>"
      ]
     },
     "metadata": {},
     "output_type": "display_data"
    }
   ],
   "source": [
    "model.plot(forecast)\n",
    "plt.show()"
   ]
  },
  {
   "cell_type": "markdown",
   "id": "fa141d35",
   "metadata": {},
   "source": [
    "#### Out-Of-Sample Forecast\n",
    "이제 미래를 예측한다"
   ]
  },
  {
   "cell_type": "code",
   "execution_count": 290,
   "id": "a4cb0be2",
   "metadata": {
    "ExecuteTime": {
     "end_time": "2023-06-02T16:31:25.287516Z",
     "start_time": "2023-06-02T16:31:25.277448Z"
    }
   },
   "outputs": [],
   "source": [
    "start_year = 2022\n",
    "end_year = start_year + 5\n",
    "\n",
    "# train set 이후 5년  생성\n",
    "last_5years = list()\n",
    "for year in range(start_year, end_year):\n",
    "    last_5years.append([str(year)])\n",
    "last_5years = pd.DataFrame(last_5years, columns=['ds'])\n",
    "last_5years['ds'] = pd.to_datetime(last_5years['ds'])"
   ]
  },
  {
   "cell_type": "code",
   "execution_count": 291,
   "id": "5624731b",
   "metadata": {
    "ExecuteTime": {
     "end_time": "2023-06-02T16:31:26.422756Z",
     "start_time": "2023-06-02T16:31:25.834888Z"
    }
   },
   "outputs": [
    {
     "data": {
      "image/png": "[encoded data removed]",
      "text/plain": [
       "<Figure size 720x432 with 1 Axes>"
      ]
     },
     "metadata": {},
     "output_type": "display_data"
    }
   ],
   "source": [
    "forecast = model.predict(last_5years)\n",
    "model.plot(forecast)\n",
    "plt.show()"
   ]
  },
  {
   "cell_type": "markdown",
   "id": "4391b109",
   "metadata": {},
   "source": [
    "#### 평가"
   ]
  },
  {
   "cell_type": "code",
   "execution_count": 377,
   "id": "da2ee835",
   "metadata": {
    "ExecuteTime": {
     "end_time": "2023-06-02T17:03:02.963044Z",
     "start_time": "2023-06-02T17:03:02.279129Z"
    }
   },
   "outputs": [
    {
     "name": "stderr",
     "output_type": "stream",
     "text": [
      "INFO:prophet:Disabling weekly seasonality. Run prophet with weekly_seasonality=True to override this.\n",
      "INFO:prophet:Disabling daily seasonality. Run prophet with daily_seasonality=True to override this.\n",
      "INFO:prophet:n_changepoints greater than number of observations. Using 15.\n"
     ]
    },
    {
     "name": "stdout",
     "output_type": "stream",
     "text": [
      "\n",
      "Initial log joint probability = -56.7048\n",
      "Iteration  1. Log joint probability =     18.713. Improved by 75.4178.\n",
      "Iteration  2. Log joint probability =    30.2562. Improved by 11.5432.\n",
      "Iteration  3. Log joint probability =    35.0674. Improved by 4.81125.\n",
      "Iteration  4. Log joint probability =     35.137. Improved by 0.0695797.\n",
      "Iteration  5. Log joint probability =    35.2102. Improved by 0.073171.\n",
      "Iteration  6. Log joint probability =    35.2473. Improved by 0.0371171.\n",
      "Iteration  7. Log joint probability =    35.2663. Improved by 0.0189487.\n",
      "Iteration  8. Log joint probability =    35.2906. Improved by 0.0243694.\n",
      "Iteration  9. Log joint probability =    35.3008. Improved by 0.01015.\n",
      "Iteration 10. Log joint probability =    35.3027. Improved by 0.00191572.\n",
      "Iteration 11. Log joint probability =    35.3037. Improved by 0.00105322.\n",
      "Iteration 12. Log joint probability =    35.3068. Improved by 0.00308825.\n",
      "Iteration 13. Log joint probability =    35.3093. Improved by 0.00246714.\n",
      "Iteration 14. Log joint probability =    35.3124. Improved by 0.00314537.\n",
      "Iteration 15. Log joint probability =    35.3155. Improved by 0.00305021.\n",
      "Iteration 16. Log joint probability =     35.317. Improved by 0.00152245.\n",
      "Iteration 17. Log joint probability =    35.3176. Improved by 0.00054823.\n",
      "Iteration 18. Log joint probability =    35.3179. Improved by 0.000320799.\n",
      "Iteration 19. Log joint probability =    35.3181. Improved by 0.000166103.\n",
      "Iteration 20. Log joint probability =    35.3182. Improved by 0.000179127.\n",
      "Iteration 21. Log joint probability =    35.3184. Improved by 0.000148817.\n",
      "Iteration 22. Log joint probability =    35.3184. Improved by 3.02848e-05.\n",
      "Iteration 23. Log joint probability =    35.3185. Improved by 6.25868e-05.\n",
      "Iteration 24. Log joint probability =    35.3185. Improved by 6.60937e-05.\n",
      "Iteration 25. Log joint probability =    35.3186. Improved by 4.51666e-05.\n",
      "Iteration 26. Log joint probability =    35.3186. Improved by 2.17053e-07.\n",
      "Iteration 27. Log joint probability =    35.3186. Improved by 4.00328e-06.\n",
      "Iteration 28. Log joint probability =    35.3186. Improved by 9.36183e-06.\n",
      "Iteration 29. Log joint probability =    35.3186. Improved by 2.24925e-06.\n",
      "Iteration 30. Log joint probability =    35.3186. Improved by 2.06774e-06.\n",
      "Iteration 31. Log joint probability =    35.3186. Improved by 7.61443e-06.\n",
      "Iteration 32. Log joint probability =    35.3186. Improved by 5.66285e-06.\n",
      "Iteration 33. Log joint probability =    35.3186. Improved by 2.77901e-06.\n",
      "Iteration 34. Log joint probability =    35.3186. Improved by 4.70208e-06.\n",
      "Iteration 35. Log joint probability =    35.3186. Improved by 2.70452e-06.\n",
      "Iteration 36. Log joint probability =    35.3186. Improved by 9.51111e-06.\n",
      "Iteration 37. Log joint probability =    35.3186. Improved by 4.69321e-06.\n",
      "Iteration 38. Log joint probability =    35.3187. Improved by 2.37392e-05.\n",
      "Iteration 39. Log joint probability =    35.3187. Improved by 4.95815e-06.\n",
      "Iteration 40. Log joint probability =    35.3187. Improved by 7.14271e-06.\n",
      "Iteration 41. Log joint probability =    35.3187. Improved by 8.81035e-06.\n",
      "Iteration 42. Log joint probability =    35.3187. Improved by 2.8156e-06.\n",
      "Iteration 43. Log joint probability =    35.3187. Improved by 2.73353e-06.\n",
      "Iteration 44. Log joint probability =    35.3187. Improved by 5.39602e-06.\n",
      "Iteration 45. Log joint probability =    35.3187. Improved by 1.2282e-06.\n",
      "Iteration 46. Log joint probability =    35.3187. Improved by 1.1511e-06.\n",
      "Iteration 47. Log joint probability =    35.3187. Improved by 2.53019e-06.\n",
      "Iteration 48. Log joint probability =    35.3187. Improved by 6.56362e-07.\n",
      "Iteration 49. Log joint probability =    35.3187. Improved by 8.10697e-07.\n",
      "Iteration 50. Log joint probability =    35.3187. Improved by 1.30175e-06.\n",
      "Iteration 51. Log joint probability =    35.3187. Improved by 6.21746e-07.\n",
      "Iteration 52. Log joint probability =    35.3187. Improved by 6.52999e-07.\n",
      "Iteration 53. Log joint probability =    35.3187. Improved by 3.37126e-07.\n",
      "Iteration 54. Log joint probability =    35.3187. Improved by 8.60563e-08.\n",
      "Iteration 55. Log joint probability =    35.3187. Improved by 8.50364e-08.\n",
      "Iteration 56. Log joint probability =    35.3187. Improved by 1.40058e-07.\n",
      "Iteration 57. Log joint probability =    35.3187. Improved by 9.64093e-08.\n",
      "Iteration 58. Log joint probability =    35.3187. Improved by 7.22548e-08.\n",
      "Iteration 59. Log joint probability =    35.3187. Improved by 3.47413e-08.\n",
      "Iteration 60. Log joint probability =    35.3187. Improved by 3.42509e-08.\n",
      "Iteration 61. Log joint probability =    35.3187. Improved by 2.48062e-08.\n",
      "Iteration 62. Log joint probability =    35.3187. Improved by 1.69412e-08.\n",
      "Iteration 63. Log joint probability =    35.3187. Improved by 4.43078e-09.\n",
      "MAE: 21.657\n",
      "RMSE: 24.846\n"
     ]
    }
   ],
   "source": [
    "# 마지막 5년 제외시키기\n",
    "train = data.drop(data.index[-5:])\n",
    "y_true = train['y'][-5:].values\n",
    "\n",
    "# 모델 생성 후 학습\n",
    "model = Prophet()\n",
    "model.fit(train)\n",
    "\n",
    "\n",
    "# train set 마지막 5년 날짜 생성\n",
    "start_year = 2017\n",
    "end_year = start_year + 5\n",
    "\n",
    "last_5years = list()\n",
    "for year in range(start_year, end_year):\n",
    "    last_5years.append([str(year)])\n",
    "last_5years = pd.DataFrame(last_5years, columns=['ds'])\n",
    "last_5years['ds'] = pd.to_datetime(last_5years['ds'])\n",
    "\n",
    "\n",
    "\n",
    "# 예측과 비교 \n",
    "#MAE\n",
    "forecast = model.predict(last_5years)\n",
    "y_pred = forecast['yhat'].values\n",
    "\n",
    "\n",
    "from sklearn.metrics import mean_absolute_error\n",
    "mae = mean_absolute_error(y_true, y_pred)\n",
    "print('MAE: %.3f' % mae)\n",
    "\n",
    "#RMSE\n",
    "from sklearn.metrics import mean_squared_error\n",
    "\n",
    "rmse = np.sqrt(mean_squared_error(y_true, y_pred))\n",
    "print('RMSE: %.3f' % rmse)\n"
   ]
  },
  {
   "cell_type": "code",
   "execution_count": 320,
   "id": "36db7ad2",
   "metadata": {
    "ExecuteTime": {
     "end_time": "2023-06-02T16:49:36.213661Z",
     "start_time": "2023-06-02T16:49:35.740388Z"
    }
   },
   "outputs": [
    {
     "name": "stdout",
     "output_type": "stream",
     "text": [
      "MAE: 593.505\n",
      "RMSE: 699.002\n"
     ]
    }
   ],
   "source": [
    "\n",
    "\n"
   ]
  },
  {
   "cell_type": "code",
   "execution_count": 378,
   "id": "ae9cef6f",
   "metadata": {
    "ExecuteTime": {
     "end_time": "2023-06-02T17:03:05.485621Z",
     "start_time": "2023-06-02T17:03:05.390772Z"
    },
    "scrolled": true
   },
   "outputs": [
    {
     "data": {
      "image/png": "[encoded data removed]",
      "text/plain": [
       "<Figure size 432x288 with 1 Axes>"
      ]
     },
     "metadata": {
      "needs_background": "light"
     },
     "output_type": "display_data"
    }
   ],
   "source": [
    "# 예측 결과 시각화\n",
    "plt.plot(y_true, label='Actual')\n",
    "plt.plot(y_pred, label='Predicted')\n",
    "plt.legend()\n",
    "plt.show()\n"
   ]
  },
  {
   "cell_type": "code",
   "execution_count": 361,
   "id": "b36e216d",
   "metadata": {
    "ExecuteTime": {
     "end_time": "2023-06-02T16:58:34.469349Z",
     "start_time": "2023-06-02T16:58:34.442309Z"
    }
   },
   "outputs": [
    {
     "name": "stdout",
     "output_type": "stream",
     "text": [
      "          ds        yhat  yhat_lower  yhat_upper\n",
      "0 2022-01-01  555.855955  411.762384  671.386544\n",
      "1 2023-01-01  553.077170  418.001342  685.621213\n",
      "2 2024-01-01  549.730272  423.470006  682.231384\n",
      "3 2025-01-01  541.815115  408.434491  679.533476\n",
      "4 2026-01-01  539.602530  407.416302  673.266277\n",
      "-------------\n"
     ]
    },
    {
     "data": {
      "text/html": [
       "<div>\n",
       "<style scoped>\n",
       "    .dataframe tbody tr th:only-of-type {\n",
       "        vertical-align: middle;\n",
       "    }\n",
       "\n",
       "    .dataframe tbody tr th {\n",
       "        vertical-align: top;\n",
       "    }\n",
       "\n",
       "    .dataframe thead th {\n",
       "        text-align: right;\n",
       "    }\n",
       "</style>\n",
       "<table border=\"1\" class=\"dataframe\">\n",
       "  <thead>\n",
       "    <tr style=\"text-align: right;\">\n",
       "      <th></th>\n",
       "      <th>ds</th>\n",
       "      <th>y</th>\n",
       "    </tr>\n",
       "  </thead>\n",
       "  <tbody>\n",
       "    <tr>\n",
       "      <th>21</th>\n",
       "      <td>2017</td>\n",
       "      <td>797.200000</td>\n",
       "    </tr>\n",
       "    <tr>\n",
       "      <th>22</th>\n",
       "      <td>2018</td>\n",
       "      <td>741.700000</td>\n",
       "    </tr>\n",
       "    <tr>\n",
       "      <th>23</th>\n",
       "      <td>2019</td>\n",
       "      <td>1111.100000</td>\n",
       "    </tr>\n",
       "    <tr>\n",
       "      <th>24</th>\n",
       "      <td>2020</td>\n",
       "      <td>1626.985753</td>\n",
       "    </tr>\n",
       "    <tr>\n",
       "      <th>25</th>\n",
       "      <td>2021</td>\n",
       "      <td>1530.355616</td>\n",
       "    </tr>\n",
       "  </tbody>\n",
       "</table>\n",
       "</div>"
      ],
      "text/plain": [
       "      ds            y\n",
       "21  2017   797.200000\n",
       "22  2018   741.700000\n",
       "23  2019  1111.100000\n",
       "24  2020  1626.985753\n",
       "25  2021  1530.355616"
      ]
     },
     "execution_count": 361,
     "metadata": {},
     "output_type": "execute_result"
    }
   ],
   "source": [
    "print(forecast[['ds', 'yhat', 'yhat_lower', 'yhat_upper']].head())\n",
    "print('-------------')\n",
    "data.tail()"
   ]
  },
  {
   "cell_type": "markdown",
   "id": "87f6b038",
   "metadata": {},
   "source": [
    "### 충남"
   ]
  },
  {
   "cell_type": "code",
   "execution_count": 387,
   "id": "e9b42544",
   "metadata": {
    "ExecuteTime": {
     "end_time": "2023-06-03T08:07:50.362202Z",
     "start_time": "2023-06-03T08:07:50.352765Z"
    }
   },
   "outputs": [],
   "source": [
    "# 데이터 준비\n",
    "data = df_r[['index', '충남']]  # 날짜와 예측 대상 변수 선택\n",
    "data.columns = ['ds', 'y']  # 열 이름 변경\n"
   ]
  },
  {
   "cell_type": "markdown",
   "id": "0d6aa3ea",
   "metadata": {
    "ExecuteTime": {
     "end_time": "2023-06-02T07:42:15.187457Z",
     "start_time": "2023-06-02T07:42:15.179147Z"
    }
   },
   "source": [
    "#### In-Sample Forecast\n",
    "\n",
    "우선 미래나 과거를 예측하기 전에 우리가 학습으로 사용한 데이터부터 잘 예측이 되는지 확인해 볼 필요가 있다.\n",
    "\n",
    "이를 In-Sample Forecast라고 하며, 이 결과를 검토함으로써 모델이 얼마나 좋은지 확인할 수 있다. 즉 train set을 얼마나 잘 학습했는가를 판단하는 것이다.\n",
    "\n"
   ]
  },
  {
   "cell_type": "code",
   "execution_count": 388,
   "id": "925b935e",
   "metadata": {
    "ExecuteTime": {
     "end_time": "2023-06-03T08:07:52.092294Z",
     "start_time": "2023-06-03T08:07:51.732906Z"
    },
    "scrolled": false
   },
   "outputs": [
    {
     "name": "stderr",
     "output_type": "stream",
     "text": [
      "INFO:prophet:Disabling weekly seasonality. Run prophet with weekly_seasonality=True to override this.\n",
      "INFO:prophet:Disabling daily seasonality. Run prophet with daily_seasonality=True to override this.\n",
      "INFO:prophet:n_changepoints greater than number of observations. Using 19.\n"
     ]
    },
    {
     "name": "stdout",
     "output_type": "stream",
     "text": [
      "\n"
     ]
    },
    {
     "data": {
      "text/plain": [
       "<prophet.forecaster.Prophet at 0x7faee8302b20>"
      ]
     },
     "execution_count": 388,
     "metadata": {},
     "output_type": "execute_result"
    },
    {
     "name": "stdout",
     "output_type": "stream",
     "text": [
      "Initial log joint probability = -52.1712\n",
      "Iteration  1. Log joint probability =    22.0919. Improved by 74.2631.\n",
      "Iteration  2. Log joint probability =    33.7507. Improved by 11.6589.\n",
      "Iteration  3. Log joint probability =    49.2502. Improved by 15.4995.\n",
      "Iteration  4. Log joint probability =    49.6718. Improved by 0.421568.\n",
      "Iteration  5. Log joint probability =    50.7698. Improved by 1.09795.\n",
      "Iteration  6. Log joint probability =    50.7744. Improved by 0.00461785.\n",
      "Iteration  7. Log joint probability =    50.7933. Improved by 0.018955.\n",
      "Iteration  8. Log joint probability =    50.8091. Improved by 0.0158225.\n",
      "Iteration  9. Log joint probability =    50.8171. Improved by 0.00794052.\n",
      "Iteration 10. Log joint probability =    50.8764. Improved by 0.0593493.\n",
      "Iteration 11. Log joint probability =    51.1216. Improved by 0.245162.\n",
      "Iteration 12. Log joint probability =    51.1964. Improved by 0.0748165.\n",
      "Iteration 13. Log joint probability =    51.2133. Improved by 0.0168496.\n",
      "Iteration 14. Log joint probability =    51.2293. Improved by 0.0160106.\n",
      "Iteration 15. Log joint probability =    51.2841. Improved by 0.0547862.\n",
      "Iteration 16. Log joint probability =    51.3317. Improved by 0.047632.\n",
      "Iteration 17. Log joint probability =    51.3875. Improved by 0.0558294.\n",
      "Iteration 18. Log joint probability =    51.4134. Improved by 0.0258563.\n",
      "Iteration 19. Log joint probability =     51.448. Improved by 0.0345788.\n",
      "Iteration 20. Log joint probability =    51.4598. Improved by 0.0118198.\n",
      "Iteration 21. Log joint probability =    51.4619. Improved by 0.0020818.\n",
      "Iteration 22. Log joint probability =    51.4664. Improved by 0.00450021.\n",
      "Iteration 23. Log joint probability =    51.4712. Improved by 0.00483366.\n",
      "Iteration 24. Log joint probability =    51.4732. Improved by 0.00198884.\n",
      "Iteration 25. Log joint probability =    51.4736. Improved by 0.000376934.\n",
      "Iteration 26. Log joint probability =    51.4752. Improved by 0.00159905.\n",
      "Iteration 27. Log joint probability =    51.4764. Improved by 0.00128755.\n",
      "Iteration 28. Log joint probability =    51.4767. Improved by 0.000220899.\n",
      "Iteration 29. Log joint probability =    51.4767. Improved by 7.53985e-05.\n",
      "Iteration 30. Log joint probability =    51.4776. Improved by 0.00089039.\n",
      "Iteration 31. Log joint probability =    51.4779. Improved by 0.000268835.\n",
      "Iteration 32. Log joint probability =    51.4779. Improved by 3.75093e-05.\n",
      "Iteration 33. Log joint probability =    51.4782. Improved by 0.000259228.\n",
      "Iteration 34. Log joint probability =    51.4786. Improved by 0.000363239.\n",
      "Iteration 35. Log joint probability =    51.4787. Improved by 0.000152527.\n",
      "Iteration 36. Log joint probability =    51.4788. Improved by 0.000106796.\n",
      "Iteration 37. Log joint probability =    51.4789. Improved by 0.000118162.\n",
      "Iteration 38. Log joint probability =     51.479. Improved by 7.24875e-05.\n",
      "Iteration 39. Log joint probability =     51.479. Improved by 1.08768e-05.\n",
      "Iteration 40. Log joint probability =    51.4791. Improved by 5.7766e-05.\n",
      "Iteration 41. Log joint probability =    51.4791. Improved by 3.78898e-05.\n",
      "Iteration 42. Log joint probability =    51.4791. Improved by 1.3259e-05.\n",
      "Iteration 43. Log joint probability =    51.4791. Improved by 2.38673e-06.\n",
      "Iteration 44. Log joint probability =    51.4792. Improved by 2.78751e-05.\n",
      "Iteration 45. Log joint probability =    51.4792. Improved by 1.58129e-06.\n",
      "Iteration 46. Log joint probability =    51.4792. Improved by 2.01673e-05.\n",
      "Iteration 47. Log joint probability =    51.4792. Improved by 2.51466e-06.\n",
      "Iteration 48. Log joint probability =    51.4792. Improved by 1.33569e-06.\n",
      "Iteration 49. Log joint probability =    51.4792. Improved by 3.16988e-06.\n",
      "Iteration 50. Log joint probability =    51.4792. Improved by 2.80455e-07.\n",
      "Iteration 51. Log joint probability =    51.4792. Improved by 6.04396e-08.\n",
      "Iteration 52. Log joint probability =    51.4792. Improved by 3.6335e-06.\n",
      "Iteration 53. Log joint probability =    51.4792. Improved by 1.60509e-06.\n",
      "Iteration 54. Log joint probability =    51.4792. Improved by 8.34653e-08.\n",
      "Iteration 55. Log joint probability =    51.4792. Improved by 1.83408e-06.\n",
      "Iteration 56. Log joint probability =    51.4792. Improved by 9.94208e-07.\n",
      "Iteration 57. Log joint probability =    51.4792. Improved by 4.20189e-07.\n",
      "Iteration 58. Log joint probability =    51.4792. Improved by 8.09922e-07.\n",
      "Iteration 59. Log joint probability =    51.4792. Improved by 2.97835e-07.\n",
      "Iteration 60. Log joint probability =    51.4792. Improved by 1.90412e-07.\n",
      "Iteration 61. Log joint probability =    51.4792. Improved by 2.75958e-07.\n",
      "Iteration 62. Log joint probability =    51.4792. Improved by 1.727e-07.\n",
      "Iteration 63. Log joint probability =    51.4792. Improved by 4.55521e-08.\n",
      "Iteration 64. Log joint probability =    51.4792. Improved by 4.80306e-10.\n"
     ]
    }
   ],
   "source": [
    "#모델생성\n",
    "model = Prophet()\n",
    "\n",
    "# 모델 학습\n",
    "model.fit(data)"
   ]
  },
  {
   "cell_type": "code",
   "execution_count": 389,
   "id": "469f0980",
   "metadata": {
    "ExecuteTime": {
     "end_time": "2023-06-03T08:07:54.444460Z",
     "start_time": "2023-06-03T08:07:54.434788Z"
    }
   },
   "outputs": [],
   "source": [
    "# train set 마지막 5년 날짜 생성\n",
    "start_year = 2017\n",
    "end_year = start_year + 5\n",
    "\n",
    "last_5years = list()\n",
    "for year in range(start_year, end_year):\n",
    "    last_5years.append([str(year)])\n",
    "last_5years = pd.DataFrame(last_5years, columns=['ds'])\n",
    "last_5years['ds'] = pd.to_datetime(last_5years['ds'])"
   ]
  },
  {
   "cell_type": "code",
   "execution_count": 390,
   "id": "bc4c43a7",
   "metadata": {
    "ExecuteTime": {
     "end_time": "2023-06-03T08:07:55.867667Z",
     "start_time": "2023-06-03T08:07:55.397917Z"
    }
   },
   "outputs": [],
   "source": [
    "# 예측\n",
    "forecast = model.predict(last_5years)"
   ]
  },
  {
   "cell_type": "code",
   "execution_count": 391,
   "id": "f4ef1349",
   "metadata": {
    "ExecuteTime": {
     "end_time": "2023-06-03T08:07:57.608134Z",
     "start_time": "2023-06-03T08:07:57.460887Z"
    }
   },
   "outputs": [
    {
     "data": {
      "image/png": "[encoded data removed]",
      "text/plain": [
       "<Figure size 720x432 with 1 Axes>"
      ]
     },
     "metadata": {},
     "output_type": "display_data"
    }
   ],
   "source": [
    "model.plot(forecast)\n",
    "plt.show()"
   ]
  },
  {
   "cell_type": "markdown",
   "id": "031ee677",
   "metadata": {},
   "source": [
    "#### Out-Of-Sample Forecast\n",
    "이제 미래를 예측한다"
   ]
  },
  {
   "cell_type": "code",
   "execution_count": 392,
   "id": "e83851d7",
   "metadata": {
    "ExecuteTime": {
     "end_time": "2023-06-03T08:07:59.804170Z",
     "start_time": "2023-06-03T08:07:59.792178Z"
    }
   },
   "outputs": [],
   "source": [
    "start_year = 2022\n",
    "end_year = start_year + 5\n",
    "\n",
    "# train set 이후 5년  생성\n",
    "last_5years = list()\n",
    "for year in range(start_year, end_year):\n",
    "    last_5years.append([str(year)])\n",
    "last_5years = pd.DataFrame(last_5years, columns=['ds'])\n",
    "last_5years['ds'] = pd.to_datetime(last_5years['ds'])"
   ]
  },
  {
   "cell_type": "code",
   "execution_count": 393,
   "id": "d3f045be",
   "metadata": {
    "ExecuteTime": {
     "end_time": "2023-06-03T08:08:00.851428Z",
     "start_time": "2023-06-03T08:08:00.069909Z"
    }
   },
   "outputs": [
    {
     "data": {
      "image/png": "[encoded data removed]",
      "text/plain": [
       "<Figure size 720x432 with 1 Axes>"
      ]
     },
     "metadata": {},
     "output_type": "display_data"
    }
   ],
   "source": [
    "forecast = model.predict(last_5years)\n",
    "model.plot(forecast)\n",
    "plt.show()"
   ]
  },
  {
   "cell_type": "markdown",
   "id": "fa2aaf9b",
   "metadata": {},
   "source": [
    "#### 평가"
   ]
  },
  {
   "cell_type": "code",
   "execution_count": 394,
   "id": "9a2164d6",
   "metadata": {
    "ExecuteTime": {
     "end_time": "2023-06-03T08:08:01.872153Z",
     "start_time": "2023-06-03T08:08:01.186557Z"
    }
   },
   "outputs": [
    {
     "name": "stderr",
     "output_type": "stream",
     "text": [
      "INFO:prophet:Disabling weekly seasonality. Run prophet with weekly_seasonality=True to override this.\n",
      "INFO:prophet:Disabling daily seasonality. Run prophet with daily_seasonality=True to override this.\n",
      "INFO:prophet:n_changepoints greater than number of observations. Using 15.\n"
     ]
    },
    {
     "name": "stdout",
     "output_type": "stream",
     "text": [
      "\n",
      "Initial log joint probability = -56.6366\n",
      "Iteration  1. Log joint probability =    24.8744. Improved by 81.5109.\n",
      "Iteration  2. Log joint probability =    34.3612. Improved by 9.48684.\n",
      "Iteration  3. Log joint probability =     35.448. Improved by 1.08682.\n",
      "Iteration  4. Log joint probability =    35.7427. Improved by 0.294671.\n",
      "Iteration  5. Log joint probability =    35.7899. Improved by 0.0471823.\n",
      "Iteration  6. Log joint probability =    35.8072. Improved by 0.0172717.\n",
      "Iteration  7. Log joint probability =    35.8335. Improved by 0.0263086.\n",
      "Iteration  8. Log joint probability =     35.969. Improved by 0.135502.\n",
      "Iteration  9. Log joint probability =    36.0082. Improved by 0.0392743.\n",
      "Iteration 10. Log joint probability =    36.0498. Improved by 0.0415222.\n",
      "Iteration 11. Log joint probability =    36.0733. Improved by 0.0235544.\n",
      "Iteration 12. Log joint probability =    36.0823. Improved by 0.0089908.\n",
      "Iteration 13. Log joint probability =    36.0884. Improved by 0.0061159.\n",
      "Iteration 14. Log joint probability =    36.0918. Improved by 0.00338895.\n",
      "Iteration 15. Log joint probability =    36.0933. Improved by 0.00144217.\n",
      "Iteration 16. Log joint probability =    36.0954. Improved by 0.00217104.\n",
      "Iteration 17. Log joint probability =    36.1015. Improved by 0.00603765.\n",
      "Iteration 18. Log joint probability =    36.1027. Improved by 0.00122751.\n",
      "Iteration 19. Log joint probability =    36.1064. Improved by 0.00372659.\n",
      "Iteration 20. Log joint probability =    36.1064. Improved by 9.21575e-06.\n",
      "Iteration 21. Log joint probability =    36.1079. Improved by 0.0014662.\n",
      "Iteration 22. Log joint probability =    36.1084. Improved by 0.000467366.\n",
      "Iteration 23. Log joint probability =    36.1095. Improved by 0.0011052.\n",
      "Iteration 24. Log joint probability =    36.1096. Improved by 0.00015946.\n",
      "Iteration 25. Log joint probability =    36.1098. Improved by 0.000153819.\n",
      "Iteration 26. Log joint probability =      36.11. Improved by 0.000166914.\n",
      "Iteration 27. Log joint probability =      36.11. Improved by 5.4296e-05.\n",
      "Iteration 28. Log joint probability =      36.11. Improved by 1.51166e-06.\n",
      "Iteration 29. Log joint probability =    36.1101. Improved by 0.000131175.\n",
      "Iteration 30. Log joint probability =    36.1102. Improved by 4.60883e-05.\n",
      "Iteration 31. Log joint probability =    36.1102. Improved by 2.21497e-05.\n",
      "Iteration 32. Log joint probability =    36.1102. Improved by 5.36785e-06.\n",
      "Iteration 33. Log joint probability =    36.1102. Improved by 1.25717e-06.\n",
      "Iteration 34. Log joint probability =    36.1102. Improved by 9.44031e-07.\n",
      "Iteration 35. Log joint probability =    36.1102. Improved by 1.69193e-05.\n",
      "Iteration 36. Log joint probability =    36.1102. Improved by 4.8724e-06.\n",
      "Iteration 37. Log joint probability =    36.1102. Improved by 2.45892e-06.\n",
      "Iteration 38. Log joint probability =    36.1102. Improved by 2.45674e-06.\n",
      "Iteration 39. Log joint probability =    36.1102. Improved by 8.29966e-07.\n",
      "Iteration 40. Log joint probability =    36.1102. Improved by 5.78604e-07.\n",
      "Iteration 41. Log joint probability =    36.1102. Improved by 5.2683e-07.\n",
      "Iteration 42. Log joint probability =    36.1102. Improved by 2.21951e-07.\n",
      "Iteration 43. Log joint probability =    36.1102. Improved by 3.89556e-07.\n",
      "Iteration 44. Log joint probability =    36.1102. Improved by 1.37109e-07.\n",
      "Iteration 45. Log joint probability =    36.1102. Improved by 1.5626e-08.\n",
      "Iteration 46. Log joint probability =    36.1102. Improved by 1.27408e-07.\n",
      "Iteration 47. Log joint probability =    36.1102. Improved by 3.76835e-08.\n",
      "Iteration 48. Log joint probability =    36.1102. Improved by 2.33377e-08.\n",
      "Iteration 49. Log joint probability =    36.1102. Improved by 2.45907e-08.\n",
      "Iteration 50. Log joint probability =    36.1102. Improved by 1.44543e-09.\n",
      "MAE: 45.687\n",
      "RMSE: 48.392\n"
     ]
    }
   ],
   "source": [
    "# 마지막 5년 제외시키기\n",
    "train = data.drop(data.index[-5:])\n",
    "y_true = train['y'][-5:].values\n",
    "\n",
    "# 모델 생성 후 학습\n",
    "model = Prophet()\n",
    "model.fit(train)\n",
    "\n",
    "\n",
    "# train set 마지막 5년 날짜 생성\n",
    "start_year = 2017\n",
    "end_year = start_year + 5\n",
    "\n",
    "last_5years = list()\n",
    "for year in range(start_year, end_year):\n",
    "    last_5years.append([str(year)])\n",
    "last_5years = pd.DataFrame(last_5years, columns=['ds'])\n",
    "last_5years['ds'] = pd.to_datetime(last_5years['ds'])\n",
    "\n",
    "\n",
    "\n",
    "# 예측과 비교 \n",
    "#MAE\n",
    "forecast = model.predict(last_5years)\n",
    "y_pred = forecast['yhat'].values\n",
    "\n",
    "\n",
    "from sklearn.metrics import mean_absolute_error\n",
    "mae = mean_absolute_error(y_true, y_pred)\n",
    "print('MAE: %.3f' % mae)\n",
    "\n",
    "#RMSE\n",
    "from sklearn.metrics import mean_squared_error\n",
    "\n",
    "rmse = np.sqrt(mean_squared_error(y_true, y_pred))\n",
    "print('RMSE: %.3f' % rmse)\n"
   ]
  },
  {
   "cell_type": "code",
   "execution_count": 395,
   "id": "d7189d74",
   "metadata": {
    "ExecuteTime": {
     "end_time": "2023-06-03T08:08:05.260874Z",
     "start_time": "2023-06-03T08:08:05.170432Z"
    },
    "scrolled": true
   },
   "outputs": [
    {
     "data": {
      "image/png": "[encoded data removed]",
      "text/plain": [
       "<Figure size 432x288 with 1 Axes>"
      ]
     },
     "metadata": {
      "needs_background": "light"
     },
     "output_type": "display_data"
    }
   ],
   "source": [
    "# 예측 결과 시각화\n",
    "plt.plot(y_true, label='Actual')\n",
    "plt.plot(y_pred, label='Predicted')\n",
    "plt.legend()\n",
    "plt.show()\n"
   ]
  },
  {
   "cell_type": "code",
   "execution_count": 396,
   "id": "2ed4cccb",
   "metadata": {
    "ExecuteTime": {
     "end_time": "2023-06-03T08:08:12.869121Z",
     "start_time": "2023-06-03T08:08:12.850154Z"
    }
   },
   "outputs": [
    {
     "name": "stdout",
     "output_type": "stream",
     "text": [
      "          ds        yhat  yhat_lower  yhat_upper\n",
      "0 2017-01-01  227.651366  198.047192  258.445481\n",
      "1 2018-01-01  232.882144  200.612500  263.997774\n",
      "2 2019-01-01  237.687787  206.004784  268.503085\n",
      "3 2020-01-01  242.072149  207.286573  271.829997\n",
      "4 2021-01-01  258.941967  224.808676  291.577124\n",
      "-------------\n"
     ]
    },
    {
     "data": {
      "text/html": [
       "<div>\n",
       "<style scoped>\n",
       "    .dataframe tbody tr th:only-of-type {\n",
       "        vertical-align: middle;\n",
       "    }\n",
       "\n",
       "    .dataframe tbody tr th {\n",
       "        vertical-align: top;\n",
       "    }\n",
       "\n",
       "    .dataframe thead th {\n",
       "        text-align: right;\n",
       "    }\n",
       "</style>\n",
       "<table border=\"1\" class=\"dataframe\">\n",
       "  <thead>\n",
       "    <tr style=\"text-align: right;\">\n",
       "      <th></th>\n",
       "      <th>ds</th>\n",
       "      <th>y</th>\n",
       "    </tr>\n",
       "  </thead>\n",
       "  <tbody>\n",
       "    <tr>\n",
       "      <th>21</th>\n",
       "      <td>2017</td>\n",
       "      <td>230.200000</td>\n",
       "    </tr>\n",
       "    <tr>\n",
       "      <th>22</th>\n",
       "      <td>2018</td>\n",
       "      <td>286.400000</td>\n",
       "    </tr>\n",
       "    <tr>\n",
       "      <th>23</th>\n",
       "      <td>2019</td>\n",
       "      <td>246.900000</td>\n",
       "    </tr>\n",
       "    <tr>\n",
       "      <th>24</th>\n",
       "      <td>2020</td>\n",
       "      <td>303.961644</td>\n",
       "    </tr>\n",
       "    <tr>\n",
       "      <th>25</th>\n",
       "      <td>2021</td>\n",
       "      <td>349.818356</td>\n",
       "    </tr>\n",
       "  </tbody>\n",
       "</table>\n",
       "</div>"
      ],
      "text/plain": [
       "      ds           y\n",
       "21  2017  230.200000\n",
       "22  2018  286.400000\n",
       "23  2019  246.900000\n",
       "24  2020  303.961644\n",
       "25  2021  349.818356"
      ]
     },
     "execution_count": 396,
     "metadata": {},
     "output_type": "execute_result"
    }
   ],
   "source": [
    "print(forecast[['ds', 'yhat', 'yhat_lower', 'yhat_upper']].head())\n",
    "print('-------------')\n",
    "data.tail()"
   ]
  },
  {
   "cell_type": "code",
   "execution_count": null,
   "id": "07559d67",
   "metadata": {},
   "outputs": [],
   "source": []
  }
 ],
 "metadata": {
  "kernelspec": {
   "display_name": "Python 3 (ipykernel)",
   "language": "python",
   "name": "python3"
  },
  "language_info": {
   "codemirror_mode": {
    "name": "ipython",
    "version": 3
   },
   "file_extension": ".py",
   "mimetype": "text/x-python",
   "name": "python",
   "nbconvert_exporter": "python",
   "pygments_lexer": "ipython3",
   "version": "3.9.12"
  },
  "toc": {
   "base_numbering": 1,
   "nav_menu": {},
   "number_sections": true,
   "sideBar": true,
   "skip_h1_title": false,
   "title_cell": "Table of Contents",
   "title_sidebar": "Contents",
   "toc_cell": false,
   "toc_position": {},
   "toc_section_display": true,
   "toc_window_display": false
  },
  "varInspector": {
   "cols": {
    "lenName": 16,
    "lenType": 16,
    "lenVar": 40
   },
   "kernels_config": {
    "python": {
     "delete_cmd_postfix": "",
     "delete_cmd_prefix": "del ",
     "library": "var_list.py",
     "varRefreshCmd": "print(var_dic_list())"
    },
    "r": {
     "delete_cmd_postfix": ") ",
     "delete_cmd_prefix": "rm(",
     "library": "var_list.r",
     "varRefreshCmd": "cat(var_dic_list()) "
    }
   },
   "types_to_exclude": [
    "module",
    "function",
    "builtin_function_or_method",
    "instance",
    "_Feature"
   ],
   "window_display": false
  }
 },
 "nbformat": 4,
 "nbformat_minor": 5
}
